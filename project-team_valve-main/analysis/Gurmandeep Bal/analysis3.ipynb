{
 "cells": [
  {
   "cell_type": "markdown",
   "metadata": {},
   "source": [
    "# Gurmandeep Bal"
   ]
  },
  {
   "cell_type": "markdown",
   "metadata": {},
   "source": [
    "## Research question/interests\n",
    "\n",
    "Does a game rate higher with the existence of a certain category?\n",
    "\n",
    "In general, do games with more achievements have more categories associated with them? And are games with more achievements good games?\n",
    "\n",
    "Does a game which has more categories associated with it do better than ones who meet few categories?\n",
    "\n",
    "My first research questions will be to ask which categories do the top ten studios and publishers who made the greatest number of games do well at making. Doing well can be determined by looking at the Metacritic score, total positive score, looking at the positive score percentage, and looking at the number of achievements in the game. This is relevant and interesting as it will keep determining what categories a particular publisher is good at making, thus suggesting that the next game they make of the same category will also be good. This is feasible as the required data is available and novel as we have no metric for this question. This is ethical as this data was collected ethically.\n",
    "\n",
    "For my second research question, I will be looking at if games with more achievements have more categories associated with them? And are games with more achievements good games? With the same metrics of 'good' as before, this is relevant as if there is shown to be some sort of correlation, then one can see that if a game has many achievements, then I might be good. This is feasible as the required data is available and novel as we have no metric for this question. This is ethical as this data was collected ethically.\n",
    "\n",
    "\n",
    "As for my third research question, I want to see if games which focus on one defining feature are 'better' than jack of all trade games. Using the same metrics of 'good' as before, its relevant because should we be able to see some sort of trend with number of categories implying better or worse games, new games may be judged based on this factor. This is feasible as the required data is available and novel as we have no metric for this question. This is ethical as this data was collected ethically."
   ]
  },
  {
   "cell_type": "code",
   "execution_count": 2,
   "metadata": {},
   "outputs": [
    {
     "data": {
      "text/plain": [
       "RendererRegistry.enable('jupyterlab')"
      ]
     },
     "execution_count": 2,
     "metadata": {},
     "output_type": "execute_result"
    }
   ],
   "source": [
    "# Run this cell to ensure that altair plots show up without having\n",
    "# the notebook be really large.\n",
    "# We will talk more about what these lines do later in the course\n",
    "\n",
    "import os\n",
    "import altair as alt\n",
    "import pandas as pd\n",
    "from toolz.curried import pipe\n",
    "import ast\n",
    "import numpy as np\n",
    "\n",
    "# Create a new data transformer that stores the files in a directory\n",
    "def json_dir(data, data_dir='altairdata'):\n",
    "    os.makedirs(data_dir, exist_ok=True)\n",
    "    return pipe(data, alt.to_json(filename=data_dir + '/{prefix}-{hash}.{extension}') )\n",
    "\n",
    "# Register and enable the new transformer\n",
    "alt.data_transformers.register('json_dir', json_dir)\n",
    "alt.data_transformers.enable('json_dir')\n",
    "\n",
    "# Handle large data sets (default shows only 5000)\n",
    "# See here: https://altair-viz.github.io/user_guide/data_transformers.html\n",
    "alt.data_transformers.disable_max_rows()\n",
    "\n",
    "alt.renderers.enable('jupyterlab')"
   ]
  },
  {
   "cell_type": "code",
   "execution_count": 3,
   "metadata": {},
   "outputs": [
    {
     "name": "stdout",
     "output_type": "stream",
     "text": [
      "(58041, 21)\n"
     ]
    },
    {
     "data": {
      "text/html": [
       "<div>\n",
       "<style scoped>\n",
       "    .dataframe tbody tr th:only-of-type {\n",
       "        vertical-align: middle;\n",
       "    }\n",
       "\n",
       "    .dataframe tbody tr th {\n",
       "        vertical-align: top;\n",
       "    }\n",
       "\n",
       "    .dataframe thead th {\n",
       "        text-align: right;\n",
       "    }\n",
       "</style>\n",
       "<table border=\"1\" class=\"dataframe\">\n",
       "  <thead>\n",
       "    <tr style=\"text-align: right;\">\n",
       "      <th></th>\n",
       "      <th>Unnamed: 0</th>\n",
       "      <th>steam_appid</th>\n",
       "      <th>name</th>\n",
       "      <th>developers</th>\n",
       "      <th>publishers</th>\n",
       "      <th>categories</th>\n",
       "      <th>genres</th>\n",
       "      <th>required_age</th>\n",
       "      <th>n_achievements</th>\n",
       "      <th>platforms</th>\n",
       "      <th>...</th>\n",
       "      <th>additional_content</th>\n",
       "      <th>total_reviews</th>\n",
       "      <th>total_positive</th>\n",
       "      <th>total_negative</th>\n",
       "      <th>review_score</th>\n",
       "      <th>review_score_desc</th>\n",
       "      <th>positive_percentual</th>\n",
       "      <th>metacritic</th>\n",
       "      <th>is_free</th>\n",
       "      <th>price_initial (USD)</th>\n",
       "    </tr>\n",
       "  </thead>\n",
       "  <tbody>\n",
       "    <tr>\n",
       "      <th>0</th>\n",
       "      <td>0</td>\n",
       "      <td>2719580</td>\n",
       "      <td>勇者の伝説の勇者</td>\n",
       "      <td>['ぽけそう']</td>\n",
       "      <td>['ぽけそう']</td>\n",
       "      <td>['Single-player', 'Family Sharing']</td>\n",
       "      <td>['Casual', 'Indie']</td>\n",
       "      <td>0</td>\n",
       "      <td>0</td>\n",
       "      <td>['windows']</td>\n",
       "      <td>...</td>\n",
       "      <td>[]</td>\n",
       "      <td>0</td>\n",
       "      <td>0</td>\n",
       "      <td>0</td>\n",
       "      <td>0.0</td>\n",
       "      <td>No user reviews</td>\n",
       "      <td>0.0</td>\n",
       "      <td>0</td>\n",
       "      <td>False</td>\n",
       "      <td>0.99</td>\n",
       "    </tr>\n",
       "    <tr>\n",
       "      <th>1</th>\n",
       "      <td>2</td>\n",
       "      <td>2719600</td>\n",
       "      <td>Lorhaven: Cursed War</td>\n",
       "      <td>['GoldenGod Games']</td>\n",
       "      <td>['GoldenGod Games']</td>\n",
       "      <td>['Single-player', 'Multi-player', 'PvP', 'Shar...</td>\n",
       "      <td>['RPG', 'Strategy']</td>\n",
       "      <td>0</td>\n",
       "      <td>32</td>\n",
       "      <td>['windows', 'mac']</td>\n",
       "      <td>...</td>\n",
       "      <td>[]</td>\n",
       "      <td>9</td>\n",
       "      <td>8</td>\n",
       "      <td>1</td>\n",
       "      <td>0.0</td>\n",
       "      <td>9 user reviews</td>\n",
       "      <td>88.9</td>\n",
       "      <td>0</td>\n",
       "      <td>False</td>\n",
       "      <td>9.99</td>\n",
       "    </tr>\n",
       "    <tr>\n",
       "      <th>2</th>\n",
       "      <td>3</td>\n",
       "      <td>2719610</td>\n",
       "      <td>PUIQ: Demons</td>\n",
       "      <td>['Giammnn']</td>\n",
       "      <td>['Giammnn']</td>\n",
       "      <td>['Single-player', 'Steam Achievements', 'Famil...</td>\n",
       "      <td>['Action', 'Casual', 'Indie', 'RPG']</td>\n",
       "      <td>0</td>\n",
       "      <td>28</td>\n",
       "      <td>['windows']</td>\n",
       "      <td>...</td>\n",
       "      <td>[]</td>\n",
       "      <td>0</td>\n",
       "      <td>0</td>\n",
       "      <td>0</td>\n",
       "      <td>0.0</td>\n",
       "      <td>No user reviews</td>\n",
       "      <td>0.0</td>\n",
       "      <td>0</td>\n",
       "      <td>False</td>\n",
       "      <td>2.99</td>\n",
       "    </tr>\n",
       "    <tr>\n",
       "      <th>3</th>\n",
       "      <td>4</td>\n",
       "      <td>2719650</td>\n",
       "      <td>Project XSTING</td>\n",
       "      <td>['Saucy Melon']</td>\n",
       "      <td>['Saucy Melon']</td>\n",
       "      <td>['Single-player', 'Steam Achievements', 'Steam...</td>\n",
       "      <td>['Action', 'Casual', 'Indie', 'Early Access']</td>\n",
       "      <td>0</td>\n",
       "      <td>42</td>\n",
       "      <td>['windows']</td>\n",
       "      <td>...</td>\n",
       "      <td>[]</td>\n",
       "      <td>9</td>\n",
       "      <td>9</td>\n",
       "      <td>0</td>\n",
       "      <td>0.0</td>\n",
       "      <td>9 user reviews</td>\n",
       "      <td>100.0</td>\n",
       "      <td>0</td>\n",
       "      <td>False</td>\n",
       "      <td>7.99</td>\n",
       "    </tr>\n",
       "    <tr>\n",
       "      <th>4</th>\n",
       "      <td>7</td>\n",
       "      <td>2719710</td>\n",
       "      <td>Manor Madness</td>\n",
       "      <td>['Apericot Studio']</td>\n",
       "      <td>['Apericot Studio']</td>\n",
       "      <td>['Single-player', 'Steam Achievements', 'HDR a...</td>\n",
       "      <td>['Action', 'Adventure', 'Indie', 'RPG', 'Simul...</td>\n",
       "      <td>0</td>\n",
       "      <td>5</td>\n",
       "      <td>['windows', 'mac', 'linux']</td>\n",
       "      <td>...</td>\n",
       "      <td>[]</td>\n",
       "      <td>0</td>\n",
       "      <td>0</td>\n",
       "      <td>0</td>\n",
       "      <td>0.0</td>\n",
       "      <td>No user reviews</td>\n",
       "      <td>0.0</td>\n",
       "      <td>0</td>\n",
       "      <td>True</td>\n",
       "      <td>0.00</td>\n",
       "    </tr>\n",
       "  </tbody>\n",
       "</table>\n",
       "<p>5 rows × 21 columns</p>\n",
       "</div>"
      ],
      "text/plain": [
       "   Unnamed: 0  steam_appid                  name           developers  \\\n",
       "0           0      2719580              勇者の伝説の勇者             ['ぽけそう']   \n",
       "1           2      2719600  Lorhaven: Cursed War  ['GoldenGod Games']   \n",
       "2           3      2719610          PUIQ: Demons          ['Giammnn']   \n",
       "3           4      2719650        Project XSTING      ['Saucy Melon']   \n",
       "4           7      2719710         Manor Madness  ['Apericot Studio']   \n",
       "\n",
       "            publishers                                         categories  \\\n",
       "0             ['ぽけそう']                ['Single-player', 'Family Sharing']   \n",
       "1  ['GoldenGod Games']  ['Single-player', 'Multi-player', 'PvP', 'Shar...   \n",
       "2          ['Giammnn']  ['Single-player', 'Steam Achievements', 'Famil...   \n",
       "3      ['Saucy Melon']  ['Single-player', 'Steam Achievements', 'Steam...   \n",
       "4  ['Apericot Studio']  ['Single-player', 'Steam Achievements', 'HDR a...   \n",
       "\n",
       "                                              genres  required_age  \\\n",
       "0                                ['Casual', 'Indie']             0   \n",
       "1                                ['RPG', 'Strategy']             0   \n",
       "2               ['Action', 'Casual', 'Indie', 'RPG']             0   \n",
       "3      ['Action', 'Casual', 'Indie', 'Early Access']             0   \n",
       "4  ['Action', 'Adventure', 'Indie', 'RPG', 'Simul...             0   \n",
       "\n",
       "   n_achievements                    platforms  ... additional_content  \\\n",
       "0               0                  ['windows']  ...                 []   \n",
       "1              32           ['windows', 'mac']  ...                 []   \n",
       "2              28                  ['windows']  ...                 []   \n",
       "3              42                  ['windows']  ...                 []   \n",
       "4               5  ['windows', 'mac', 'linux']  ...                 []   \n",
       "\n",
       "  total_reviews  total_positive  total_negative  review_score  \\\n",
       "0             0               0               0           0.0   \n",
       "1             9               8               1           0.0   \n",
       "2             0               0               0           0.0   \n",
       "3             9               9               0           0.0   \n",
       "4             0               0               0           0.0   \n",
       "\n",
       "   review_score_desc positive_percentual  metacritic  is_free  \\\n",
       "0    No user reviews                 0.0           0    False   \n",
       "1     9 user reviews                88.9           0    False   \n",
       "2    No user reviews                 0.0           0    False   \n",
       "3     9 user reviews               100.0           0    False   \n",
       "4    No user reviews                 0.0           0     True   \n",
       "\n",
       "   price_initial (USD)  \n",
       "0                 0.99  \n",
       "1                 9.99  \n",
       "2                 2.99  \n",
       "3                 7.99  \n",
       "4                 0.00  \n",
       "\n",
       "[5 rows x 21 columns]"
      ]
     },
     "execution_count": 3,
     "metadata": {},
     "output_type": "execute_result"
    }
   ],
   "source": [
    "path = '../../data/processed/cleaned_games.csv'\n",
    "data = pd.read_csv(path)\n",
    "print(data.shape)\n",
    "data.head()"
   ]
  },
  {
   "cell_type": "markdown",
   "metadata": {},
   "source": [
    "Below shows the top top developer (studio) who made the most games, which is what my research question is looking at"
   ]
  },
  {
   "cell_type": "code",
   "execution_count": 4,
   "metadata": {},
   "outputs": [
    {
     "data": {
      "text/html": [
       "<div>\n",
       "<style scoped>\n",
       "    .dataframe tbody tr th:only-of-type {\n",
       "        vertical-align: middle;\n",
       "    }\n",
       "\n",
       "    .dataframe tbody tr th {\n",
       "        vertical-align: top;\n",
       "    }\n",
       "\n",
       "    .dataframe thead th {\n",
       "        text-align: right;\n",
       "    }\n",
       "</style>\n",
       "<table border=\"1\" class=\"dataframe\">\n",
       "  <thead>\n",
       "    <tr style=\"text-align: right;\">\n",
       "      <th></th>\n",
       "      <th>developers</th>\n",
       "      <th>Count</th>\n",
       "    </tr>\n",
       "  </thead>\n",
       "  <tbody>\n",
       "    <tr>\n",
       "      <th>7086</th>\n",
       "      <td>['Creobit']</td>\n",
       "      <td>122</td>\n",
       "    </tr>\n",
       "    <tr>\n",
       "      <th>6087</th>\n",
       "      <td>['Choice of Games']</td>\n",
       "      <td>104</td>\n",
       "    </tr>\n",
       "    <tr>\n",
       "      <th>18030</th>\n",
       "      <td>['Laush Dmitriy Sergeevich']</td>\n",
       "      <td>99</td>\n",
       "    </tr>\n",
       "    <tr>\n",
       "      <th>16774</th>\n",
       "      <td>['KOEI TECMO GAMES CO., LTD.']</td>\n",
       "      <td>79</td>\n",
       "    </tr>\n",
       "    <tr>\n",
       "      <th>10180</th>\n",
       "      <td>['EroticGamesClub']</td>\n",
       "      <td>76</td>\n",
       "    </tr>\n",
       "    <tr>\n",
       "      <th>14409</th>\n",
       "      <td>['Hosted Games']</td>\n",
       "      <td>64</td>\n",
       "    </tr>\n",
       "    <tr>\n",
       "      <th>9807</th>\n",
       "      <td>['Elephant Games']</td>\n",
       "      <td>59</td>\n",
       "    </tr>\n",
       "    <tr>\n",
       "      <th>4606</th>\n",
       "      <td>['Boogygames Studios']</td>\n",
       "      <td>58</td>\n",
       "    </tr>\n",
       "    <tr>\n",
       "      <th>29454</th>\n",
       "      <td>['Somer Games']</td>\n",
       "      <td>55</td>\n",
       "    </tr>\n",
       "    <tr>\n",
       "      <th>29382</th>\n",
       "      <td>['Sokpop Collective']</td>\n",
       "      <td>55</td>\n",
       "    </tr>\n",
       "  </tbody>\n",
       "</table>\n",
       "</div>"
      ],
      "text/plain": [
       "                           developers  Count\n",
       "7086                      ['Creobit']    122\n",
       "6087              ['Choice of Games']    104\n",
       "18030    ['Laush Dmitriy Sergeevich']     99\n",
       "16774  ['KOEI TECMO GAMES CO., LTD.']     79\n",
       "10180             ['EroticGamesClub']     76\n",
       "14409                ['Hosted Games']     64\n",
       "9807               ['Elephant Games']     59\n",
       "4606           ['Boogygames Studios']     58\n",
       "29454                 ['Somer Games']     55\n",
       "29382           ['Sokpop Collective']     55"
      ]
     },
     "execution_count": 4,
     "metadata": {},
     "output_type": "execute_result"
    }
   ],
   "source": [
    "countByDeveloper = data.groupby('developers')['name'].count().reset_index(name='Count')\n",
    "top10Dev = countByDeveloper.sort_values('Count',ascending=False).iloc[1:11]\n",
    "top10Dev"
   ]
  },
  {
   "cell_type": "markdown",
   "metadata": {},
   "source": [
    "The Category category were represented like [Category1, Category2, ...]. Thus for the data to be usable in my case, I had to explode the data and tidy it up to make it so each Category had their own row. Below is the datasets for both developers and publishers"
   ]
  },
  {
   "cell_type": "code",
   "execution_count": 5,
   "metadata": {},
   "outputs": [
    {
     "name": "stderr",
     "output_type": "stream",
     "text": [
      "C:\\Users\\gurma\\AppData\\Local\\Temp\\ipykernel_14524\\2841916561.py:2: SettingWithCopyWarning: \n",
      "A value is trying to be set on a copy of a slice from a DataFrame.\n",
      "Try using .loc[row_indexer,col_indexer] = value instead\n",
      "\n",
      "See the caveats in the documentation: https://pandas.pydata.org/pandas-docs/stable/user_guide/indexing.html#returning-a-view-versus-a-copy\n",
      "  dataWithTop10Dev['categories'] = dataWithTop10Dev['categories'].apply(ast.literal_eval)\n"
     ]
    },
    {
     "data": {
      "text/html": [
       "<div>\n",
       "<style scoped>\n",
       "    .dataframe tbody tr th:only-of-type {\n",
       "        vertical-align: middle;\n",
       "    }\n",
       "\n",
       "    .dataframe tbody tr th {\n",
       "        vertical-align: top;\n",
       "    }\n",
       "\n",
       "    .dataframe thead th {\n",
       "        text-align: right;\n",
       "    }\n",
       "</style>\n",
       "<table border=\"1\" class=\"dataframe\">\n",
       "  <thead>\n",
       "    <tr style=\"text-align: right;\">\n",
       "      <th></th>\n",
       "      <th>Unnamed: 0</th>\n",
       "      <th>steam_appid</th>\n",
       "      <th>required_age</th>\n",
       "      <th>n_achievements</th>\n",
       "      <th>total_reviews</th>\n",
       "      <th>total_positive</th>\n",
       "      <th>total_negative</th>\n",
       "      <th>review_score</th>\n",
       "      <th>positive_percentual</th>\n",
       "      <th>metacritic</th>\n",
       "      <th>price_initial (USD)</th>\n",
       "    </tr>\n",
       "  </thead>\n",
       "  <tbody>\n",
       "    <tr>\n",
       "      <th>count</th>\n",
       "      <td>2566.000000</td>\n",
       "      <td>2.566000e+03</td>\n",
       "      <td>2566.000000</td>\n",
       "      <td>2566.000000</td>\n",
       "      <td>2566.000000</td>\n",
       "      <td>2566.000000</td>\n",
       "      <td>2566.000000</td>\n",
       "      <td>2566.000000</td>\n",
       "      <td>2566.000000</td>\n",
       "      <td>2566.000000</td>\n",
       "      <td>2566.000000</td>\n",
       "    </tr>\n",
       "    <tr>\n",
       "      <th>mean</th>\n",
       "      <td>34223.561964</td>\n",
       "      <td>1.398988e+06</td>\n",
       "      <td>2.662120</td>\n",
       "      <td>25.219797</td>\n",
       "      <td>148.588465</td>\n",
       "      <td>126.095479</td>\n",
       "      <td>22.492985</td>\n",
       "      <td>3.344115</td>\n",
       "      <td>66.932931</td>\n",
       "      <td>2.662120</td>\n",
       "      <td>10.111645</td>\n",
       "    </tr>\n",
       "    <tr>\n",
       "      <th>std</th>\n",
       "      <td>19467.670206</td>\n",
       "      <td>7.525291e+05</td>\n",
       "      <td>14.499177</td>\n",
       "      <td>102.562425</td>\n",
       "      <td>856.930597</td>\n",
       "      <td>746.047705</td>\n",
       "      <td>121.690505</td>\n",
       "      <td>3.386658</td>\n",
       "      <td>29.344558</td>\n",
       "      <td>14.499177</td>\n",
       "      <td>14.177698</td>\n",
       "    </tr>\n",
       "    <tr>\n",
       "      <th>min</th>\n",
       "      <td>51.000000</td>\n",
       "      <td>2.995400e+05</td>\n",
       "      <td>0.000000</td>\n",
       "      <td>0.000000</td>\n",
       "      <td>0.000000</td>\n",
       "      <td>0.000000</td>\n",
       "      <td>0.000000</td>\n",
       "      <td>0.000000</td>\n",
       "      <td>0.000000</td>\n",
       "      <td>0.000000</td>\n",
       "      <td>0.000000</td>\n",
       "    </tr>\n",
       "    <tr>\n",
       "      <th>25%</th>\n",
       "      <td>15789.000000</td>\n",
       "      <td>8.825150e+05</td>\n",
       "      <td>0.000000</td>\n",
       "      <td>0.000000</td>\n",
       "      <td>3.000000</td>\n",
       "      <td>2.000000</td>\n",
       "      <td>1.000000</td>\n",
       "      <td>0.000000</td>\n",
       "      <td>50.000000</td>\n",
       "      <td>0.000000</td>\n",
       "      <td>2.990000</td>\n",
       "    </tr>\n",
       "    <tr>\n",
       "      <th>50%</th>\n",
       "      <td>36390.000000</td>\n",
       "      <td>1.257290e+06</td>\n",
       "      <td>0.000000</td>\n",
       "      <td>10.000000</td>\n",
       "      <td>10.000000</td>\n",
       "      <td>7.000000</td>\n",
       "      <td>3.000000</td>\n",
       "      <td>4.000000</td>\n",
       "      <td>75.000000</td>\n",
       "      <td>0.000000</td>\n",
       "      <td>4.990000</td>\n",
       "    </tr>\n",
       "    <tr>\n",
       "      <th>75%</th>\n",
       "      <td>49978.000000</td>\n",
       "      <td>1.859100e+06</td>\n",
       "      <td>0.000000</td>\n",
       "      <td>30.000000</td>\n",
       "      <td>32.000000</td>\n",
       "      <td>26.000000</td>\n",
       "      <td>7.000000</td>\n",
       "      <td>7.000000</td>\n",
       "      <td>89.500000</td>\n",
       "      <td>0.000000</td>\n",
       "      <td>7.990000</td>\n",
       "    </tr>\n",
       "    <tr>\n",
       "      <th>max</th>\n",
       "      <td>71238.000000</td>\n",
       "      <td>3.398790e+06</td>\n",
       "      <td>86.000000</td>\n",
       "      <td>1596.000000</td>\n",
       "      <td>9188.000000</td>\n",
       "      <td>8405.000000</td>\n",
       "      <td>1485.000000</td>\n",
       "      <td>9.000000</td>\n",
       "      <td>100.000000</td>\n",
       "      <td>86.000000</td>\n",
       "      <td>69.990000</td>\n",
       "    </tr>\n",
       "  </tbody>\n",
       "</table>\n",
       "</div>"
      ],
      "text/plain": [
       "         Unnamed: 0   steam_appid  required_age  n_achievements  \\\n",
       "count   2566.000000  2.566000e+03   2566.000000     2566.000000   \n",
       "mean   34223.561964  1.398988e+06      2.662120       25.219797   \n",
       "std    19467.670206  7.525291e+05     14.499177      102.562425   \n",
       "min       51.000000  2.995400e+05      0.000000        0.000000   \n",
       "25%    15789.000000  8.825150e+05      0.000000        0.000000   \n",
       "50%    36390.000000  1.257290e+06      0.000000       10.000000   \n",
       "75%    49978.000000  1.859100e+06      0.000000       30.000000   \n",
       "max    71238.000000  3.398790e+06     86.000000     1596.000000   \n",
       "\n",
       "       total_reviews  total_positive  total_negative  review_score  \\\n",
       "count    2566.000000     2566.000000     2566.000000   2566.000000   \n",
       "mean      148.588465      126.095479       22.492985      3.344115   \n",
       "std       856.930597      746.047705      121.690505      3.386658   \n",
       "min         0.000000        0.000000        0.000000      0.000000   \n",
       "25%         3.000000        2.000000        1.000000      0.000000   \n",
       "50%        10.000000        7.000000        3.000000      4.000000   \n",
       "75%        32.000000       26.000000        7.000000      7.000000   \n",
       "max      9188.000000     8405.000000     1485.000000      9.000000   \n",
       "\n",
       "       positive_percentual   metacritic  price_initial (USD)  \n",
       "count          2566.000000  2566.000000          2566.000000  \n",
       "mean             66.932931     2.662120            10.111645  \n",
       "std              29.344558    14.499177            14.177698  \n",
       "min               0.000000     0.000000             0.000000  \n",
       "25%              50.000000     0.000000             2.990000  \n",
       "50%              75.000000     0.000000             4.990000  \n",
       "75%              89.500000     0.000000             7.990000  \n",
       "max             100.000000    86.000000            69.990000  "
      ]
     },
     "execution_count": 5,
     "metadata": {},
     "output_type": "execute_result"
    }
   ],
   "source": [
    "dataWithTop10Dev = data[data['developers'].isin(top10Dev['developers'])]\n",
    "dataWithTop10Dev['categories'] = dataWithTop10Dev['categories'].apply(ast.literal_eval)\n",
    "dataWithTop10Dev = dataWithTop10Dev.explode('categories')\n",
    "dataWithTop10Dev.describe()"
   ]
  },
  {
   "cell_type": "markdown",
   "metadata": {},
   "source": [
    "This Graph shows how many of each Category each studio made compared to each other. Categories which were represented by less than half of the total developers or were not a game type (PvP for example) were dropped for simplicity and insignificance sake."
   ]
  },
  {
   "cell_type": "code",
   "execution_count": 6,
   "metadata": {},
   "outputs": [
    {
     "data": {
      "application/vnd.vegalite.v5+json": {
       "$schema": "https://vega.github.io/schema/vega-lite/v5.20.1.json",
       "config": {
        "view": {
         "continuousHeight": 300,
         "continuousWidth": 300
        }
       },
       "data": {
        "format": {
         "type": "json"
        },
        "url": "altairdata\\altair-data-c5f1be11edaa1a074568a02fc1d390ac.json"
       },
       "encoding": {
        "color": {
         "field": "categories",
         "type": "nominal"
        },
        "x": {
         "aggregate": "count",
         "field": "categories",
         "stack": "normalize",
         "type": "nominal"
        },
        "y": {
         "field": "developers",
         "type": "nominal"
        }
       },
       "height": 500,
       "mark": {
        "type": "bar"
       },
       "width": 1000
      },
      "text/plain": [
       "<VegaLite 5 object>\n",
       "\n",
       "If you see this message, it means the renderer has not been properly enabled\n",
       "for the frontend that you are using. For more information, see\n",
       "https://altair-viz.github.io/user_guide/display_frontends.html#troubleshooting\n"
      ]
     },
     "execution_count": 6,
     "metadata": {},
     "output_type": "execute_result"
    }
   ],
   "source": [
    "#print(dataWithTop10['categories'].unique())\n",
    "removeGenres = ['Captions available','In-App Purchases','Remote Play Together' ,\n",
    "                'Multi-player','Partial Controller Support','Cross-Platform Multiplayer',\n",
    "                'Online PvP','Full controller support', 'HDR avaliable', \n",
    "                'Includes level editor','HDR available', 'Remote Play on Tablet',\n",
    "                'Shared/Split Screen Co-op', 'Shared/Split Screen','Shared/Split Screen PvP',\n",
    "                'Stats','Steam Trading Cards','Steam Workshop']\n",
    "\n",
    "filtered_data = dataWithTop10Dev[~dataWithTop10Dev['categories'].isin(removeGenres)].dropna()\n",
    "\n",
    "alt.Chart(filtered_data).mark_bar().encode(\n",
    "    y=alt.Y('developers'),\n",
    "    x=alt.X('count(categories)').stack(\"normalize\"),\n",
    "    color='categories'\n",
    "    \n",
    ").properties(\n",
    "    height=500,\n",
    "    width=1000\n",
    ")"
   ]
  },
  {
   "cell_type": "markdown",
   "metadata": {},
   "source": [
    "Below shows the distribution of the scores each of the game developers have. This will be useful when exploring these expectations of the research question. We can see that some developer review distributions are quite odd, which will to be looked at later on when looking at this part of the question in more depth"
   ]
  },
  {
   "cell_type": "code",
   "execution_count": 7,
   "metadata": {},
   "outputs": [
    {
     "data": {
      "application/vnd.vegalite.v5+json": {
       "$schema": "https://vega.github.io/schema/vega-lite/v5.20.1.json",
       "config": {
        "view": {
         "continuousHeight": 300,
         "continuousWidth": 300
        }
       },
       "data": {
        "format": {
         "type": "json"
        },
        "url": "altairdata\\altair-data-9b23cc9e00cac402c7b82eaab18c43e0.json"
       },
       "encoding": {
        "color": {
         "field": "developers",
         "type": "nominal"
        },
        "x": {
         "field": "developers",
         "title": "Developer",
         "type": "nominal"
        },
        "y": {
         "field": "review_score",
         "title": "Review Score",
         "type": "quantitative"
        }
       },
       "height": 400,
       "mark": {
        "type": "boxplot"
       },
       "width": 600
      },
      "text/plain": [
       "<VegaLite 5 object>\n",
       "\n",
       "If you see this message, it means the renderer has not been properly enabled\n",
       "for the frontend that you are using. For more information, see\n",
       "https://altair-viz.github.io/user_guide/display_frontends.html#troubleshooting\n"
      ]
     },
     "execution_count": 7,
     "metadata": {},
     "output_type": "execute_result"
    }
   ],
   "source": [
    "boxplot = alt.Chart(dataWithTop10Dev).mark_boxplot().encode(\n",
    "    x=alt.X('developers', title='Developer'),\n",
    "    y=alt.Y('review_score', title='Review Score'),\n",
    "    color='developers'\n",
    ").properties(\n",
    "    height=400,\n",
    "    width=600\n",
    ")\n",
    "\n",
    "boxplot"
   ]
  },
  {
   "cell_type": "markdown",
   "metadata": {},
   "source": [
    "Below we see that in general, highly rated games do tend to have more achievements in them, which could be useful in further exploration."
   ]
  },
  {
   "cell_type": "code",
   "execution_count": null,
   "metadata": {},
   "outputs": [
    {
     "data": {
      "application/vnd.vegalite.v5+json": {
       "$schema": "https://vega.github.io/schema/vega-lite/v5.20.1.json",
       "config": {
        "view": {
         "continuousHeight": 300,
         "continuousWidth": 300
        }
       },
       "hconcat": [
        {
         "data": {
          "format": {
           "type": "json"
          },
          "url": "altairdata\\altair-data-7f0e02039c6de4551f9206cd309b13ea.json"
         },
         "encoding": {
          "x": {
           "field": "n_achievements",
           "type": "quantitative"
          },
          "y": {
           "field": "developers",
           "type": "nominal"
          }
         },
         "mark": {
          "type": "bar"
         },
         "title": "Count of categories for average top rated developers"
        },
        {
         "data": {
          "format": {
           "type": "json"
          },
          "url": "altairdata\\altair-data-92416b9a101bd86d175623efc0c1facc.json"
         },
         "encoding": {
          "x": {
           "field": "n_achievements",
           "type": "quantitative"
          },
          "y": {
           "field": "developers",
           "type": "nominal"
          }
         },
         "mark": {
          "type": "bar"
         },
         "title": "Count of categories for average bottom rated developers"
        }
       ]
      },
      "text/plain": [
       "<VegaLite 5 object>\n",
       "\n",
       "If you see this message, it means the renderer has not been properly enabled\n",
       "for the frontend that you are using. For more information, see\n",
       "https://altair-viz.github.io/user_guide/display_frontends.html#troubleshooting\n"
      ]
     },
     "execution_count": 11,
     "metadata": {},
     "output_type": "execute_result"
    }
   ],
   "source": [
    "catCountData = pd.DataFrame(data)\n",
    "\n",
    "bottomRated = catCountData.sort_values(by='review_score',ascending=True).head(20)\n",
    "topRated = catCountData.sort_values(by='review_score',ascending=False).head(20)\n",
    "\n",
    "topChart = alt.Chart(topRated).mark_bar().encode(\n",
    "    y='developers',\n",
    "    x='n_achievements'\n",
    "    \n",
    ").properties(\n",
    "    title='Count of achivments for average top rated developers'\n",
    ")\n",
    "\n",
    "bottomChart = alt.Chart(bottomRated).mark_bar().encode(\n",
    "    y='developers',\n",
    "    x='n_achievements'\n",
    ").properties(\n",
    "    title='Count of achivments for average bottom rated developers'\n",
    ")\n",
    "\n",
    "topChart | bottomChart"
   ]
  },
  {
   "cell_type": "markdown",
   "metadata": {},
   "source": [
    "Below shows the number of categories that a game belongs to for the top 20 and bottom rated 20 games. It seems like overall, the top rated games have more categroies for thier games, which suggests this correlation could be tested further."
   ]
  },
  {
   "cell_type": "code",
   "execution_count": null,
   "metadata": {},
   "outputs": [
    {
     "data": {
      "application/vnd.vegalite.v5+json": {
       "$schema": "https://vega.github.io/schema/vega-lite/v5.20.1.json",
       "config": {
        "view": {
         "continuousHeight": 300,
         "continuousWidth": 300
        }
       },
       "hconcat": [
        {
         "data": {
          "format": {
           "type": "json"
          },
          "url": "altairdata\\altair-data-3157966bd4538a11e28808e9f1497482.json"
         },
         "encoding": {
          "tooltip": {
           "field": "score",
           "type": "quantitative"
          },
          "x": {
           "field": "count",
           "type": "quantitative"
          },
          "y": {
           "field": "developers",
           "type": "nominal"
          }
         },
         "mark": {
          "type": "bar"
         },
         "title": "Count of categories for average top rated developers"
        },
        {
         "data": {
          "format": {
           "type": "json"
          },
          "url": "altairdata\\altair-data-41005223d46910874f9e99504c94ca13.json"
         },
         "encoding": {
          "tooltip": {
           "field": "score",
           "type": "quantitative"
          },
          "x": {
           "field": "count",
           "type": "quantitative"
          },
          "y": {
           "field": "developers",
           "type": "nominal"
          }
         },
         "mark": {
          "type": "bar"
         },
         "title": "Count of categories for average bottom rated developers"
        }
       ]
      },
      "text/plain": [
       "<VegaLite 5 object>\n",
       "\n",
       "If you see this message, it means the renderer has not been properly enabled\n",
       "for the frontend that you are using. For more information, see\n",
       "https://altair-viz.github.io/user_guide/display_frontends.html#troubleshooting\n"
      ]
     },
     "execution_count": 37,
     "metadata": {},
     "output_type": "execute_result"
    }
   ],
   "source": [
    "catCountData = pd.DataFrame(data)\n",
    "catCountData['categories'] = data['categories'].apply(ast.literal_eval)\n",
    "catCountData = catCountData.explode('categories')\n",
    "\n",
    "catCountSummary = catCountData.groupby('developers').agg(\n",
    "    count=('categories', 'nunique'),  \n",
    "    score=('review_score', 'mean')  \n",
    ").reset_index()\n",
    "\n",
    "bottomRated = catCountSummary.sort_values(by='score',ascending=True).head(20)\n",
    "topRated = catCountSummary.sort_values(by='score',ascending=False).head(20)\n",
    "\n",
    "topChart = alt.Chart(topRated).mark_bar().encode(\n",
    "    y='developers',\n",
    "    x='count',\n",
    "    tooltip='score',\n",
    "    \n",
    ").properties(\n",
    "    title='Count of categories for average top rated developers'\n",
    ")\n",
    "\n",
    "bottomChart = alt.Chart(bottomRated).mark_bar().encode(\n",
    "    y='developers',\n",
    "    x='count',\n",
    "    tooltip='score'\n",
    ").properties(\n",
    "    title='Count of categories for average bottom rated developers'\n",
    ")\n",
    "\n",
    "topChart | bottomChart\n"
   ]
  }
 ],
 "metadata": {
  "kernelspec": {
   "display_name": "base",
   "language": "python",
   "name": "python3"
  },
  "language_info": {
   "codemirror_mode": {
    "name": "ipython",
    "version": 3
   },
   "file_extension": ".py",
   "mimetype": "text/x-python",
   "name": "python",
   "nbconvert_exporter": "python",
   "pygments_lexer": "ipython3",
   "version": "3.12.3"
  }
 },
 "nbformat": 4,
 "nbformat_minor": 4
}
