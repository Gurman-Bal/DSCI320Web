{
 "cells": [
  {
   "cell_type": "code",
   "execution_count": 1,
   "metadata": {},
   "outputs": [
    {
     "data": {
      "text/plain": [
       "RendererRegistry.enable('jupyterlab')"
      ]
     },
     "execution_count": 1,
     "metadata": {},
     "output_type": "execute_result"
    }
   ],
   "source": [
    "# Run this cell to ensure that altair plots show up without having\n",
    "# the notebook be really large.\n",
    "# We will talk more about what these lines do later in the course\n",
    "\n",
    "import os\n",
    "import altair as alt\n",
    "import pandas as pd\n",
    "from toolz.curried import pipe\n",
    "import ast\n",
    "import numpy as np\n",
    "\n",
    "# Create a new data transformer that stores the files in a directory\n",
    "def json_dir(data, data_dir='altairdata'):\n",
    "    os.makedirs(data_dir, exist_ok=True)\n",
    "    return pipe(data, alt.to_json(filename=data_dir + '/{prefix}-{hash}.{extension}') )\n",
    "\n",
    "# Register and enable the new transformer\n",
    "alt.data_transformers.register('json_dir', json_dir)\n",
    "alt.data_transformers.enable('json_dir')\n",
    "\n",
    "# Handle large data sets (default shows only 5000)\n",
    "# See here: https://altair-viz.github.io/user_guide/data_transformers.html\n",
    "alt.data_transformers.disable_max_rows()\n",
    "\n",
    "alt.renderers.enable('jupyterlab')"
   ]
  },
  {
   "cell_type": "code",
   "execution_count": null,
   "metadata": {},
   "outputs": [
    {
     "name": "stdout",
     "output_type": "stream",
     "text": [
      "(58041, 21)\n"
     ]
    },
    {
     "data": {
      "text/html": [
       "<div>\n",
       "<style scoped>\n",
       "    .dataframe tbody tr th:only-of-type {\n",
       "        vertical-align: middle;\n",
       "    }\n",
       "\n",
       "    .dataframe tbody tr th {\n",
       "        vertical-align: top;\n",
       "    }\n",
       "\n",
       "    .dataframe thead th {\n",
       "        text-align: right;\n",
       "    }\n",
       "</style>\n",
       "<table border=\"1\" class=\"dataframe\">\n",
       "  <thead>\n",
       "    <tr style=\"text-align: right;\">\n",
       "      <th></th>\n",
       "      <th>Unnamed: 0</th>\n",
       "      <th>steam_appid</th>\n",
       "      <th>name</th>\n",
       "      <th>developers</th>\n",
       "      <th>publishers</th>\n",
       "      <th>categories</th>\n",
       "      <th>genres</th>\n",
       "      <th>required_age</th>\n",
       "      <th>n_achievements</th>\n",
       "      <th>platforms</th>\n",
       "      <th>...</th>\n",
       "      <th>additional_content</th>\n",
       "      <th>total_reviews</th>\n",
       "      <th>total_positive</th>\n",
       "      <th>total_negative</th>\n",
       "      <th>review_score</th>\n",
       "      <th>review_score_desc</th>\n",
       "      <th>positive_percentual</th>\n",
       "      <th>metacritic</th>\n",
       "      <th>is_free</th>\n",
       "      <th>price_initial (USD)</th>\n",
       "    </tr>\n",
       "  </thead>\n",
       "  <tbody>\n",
       "    <tr>\n",
       "      <th>0</th>\n",
       "      <td>0</td>\n",
       "      <td>2719580</td>\n",
       "      <td>勇者の伝説の勇者</td>\n",
       "      <td>['ぽけそう']</td>\n",
       "      <td>['ぽけそう']</td>\n",
       "      <td>['Single-player', 'Family Sharing']</td>\n",
       "      <td>['Casual', 'Indie']</td>\n",
       "      <td>0</td>\n",
       "      <td>0</td>\n",
       "      <td>['windows']</td>\n",
       "      <td>...</td>\n",
       "      <td>[]</td>\n",
       "      <td>0</td>\n",
       "      <td>0</td>\n",
       "      <td>0</td>\n",
       "      <td>0.0</td>\n",
       "      <td>No user reviews</td>\n",
       "      <td>0.0</td>\n",
       "      <td>0</td>\n",
       "      <td>False</td>\n",
       "      <td>0.99</td>\n",
       "    </tr>\n",
       "    <tr>\n",
       "      <th>1</th>\n",
       "      <td>2</td>\n",
       "      <td>2719600</td>\n",
       "      <td>Lorhaven: Cursed War</td>\n",
       "      <td>['GoldenGod Games']</td>\n",
       "      <td>['GoldenGod Games']</td>\n",
       "      <td>['Single-player', 'Multi-player', 'PvP', 'Shar...</td>\n",
       "      <td>['RPG', 'Strategy']</td>\n",
       "      <td>0</td>\n",
       "      <td>32</td>\n",
       "      <td>['windows', 'mac']</td>\n",
       "      <td>...</td>\n",
       "      <td>[]</td>\n",
       "      <td>9</td>\n",
       "      <td>8</td>\n",
       "      <td>1</td>\n",
       "      <td>0.0</td>\n",
       "      <td>9 user reviews</td>\n",
       "      <td>88.9</td>\n",
       "      <td>0</td>\n",
       "      <td>False</td>\n",
       "      <td>9.99</td>\n",
       "    </tr>\n",
       "    <tr>\n",
       "      <th>2</th>\n",
       "      <td>3</td>\n",
       "      <td>2719610</td>\n",
       "      <td>PUIQ: Demons</td>\n",
       "      <td>['Giammnn']</td>\n",
       "      <td>['Giammnn']</td>\n",
       "      <td>['Single-player', 'Steam Achievements', 'Famil...</td>\n",
       "      <td>['Action', 'Casual', 'Indie', 'RPG']</td>\n",
       "      <td>0</td>\n",
       "      <td>28</td>\n",
       "      <td>['windows']</td>\n",
       "      <td>...</td>\n",
       "      <td>[]</td>\n",
       "      <td>0</td>\n",
       "      <td>0</td>\n",
       "      <td>0</td>\n",
       "      <td>0.0</td>\n",
       "      <td>No user reviews</td>\n",
       "      <td>0.0</td>\n",
       "      <td>0</td>\n",
       "      <td>False</td>\n",
       "      <td>2.99</td>\n",
       "    </tr>\n",
       "    <tr>\n",
       "      <th>3</th>\n",
       "      <td>4</td>\n",
       "      <td>2719650</td>\n",
       "      <td>Project XSTING</td>\n",
       "      <td>['Saucy Melon']</td>\n",
       "      <td>['Saucy Melon']</td>\n",
       "      <td>['Single-player', 'Steam Achievements', 'Steam...</td>\n",
       "      <td>['Action', 'Casual', 'Indie', 'Early Access']</td>\n",
       "      <td>0</td>\n",
       "      <td>42</td>\n",
       "      <td>['windows']</td>\n",
       "      <td>...</td>\n",
       "      <td>[]</td>\n",
       "      <td>9</td>\n",
       "      <td>9</td>\n",
       "      <td>0</td>\n",
       "      <td>0.0</td>\n",
       "      <td>9 user reviews</td>\n",
       "      <td>100.0</td>\n",
       "      <td>0</td>\n",
       "      <td>False</td>\n",
       "      <td>7.99</td>\n",
       "    </tr>\n",
       "    <tr>\n",
       "      <th>4</th>\n",
       "      <td>7</td>\n",
       "      <td>2719710</td>\n",
       "      <td>Manor Madness</td>\n",
       "      <td>['Apericot Studio']</td>\n",
       "      <td>['Apericot Studio']</td>\n",
       "      <td>['Single-player', 'Steam Achievements', 'HDR a...</td>\n",
       "      <td>['Action', 'Adventure', 'Indie', 'RPG', 'Simul...</td>\n",
       "      <td>0</td>\n",
       "      <td>5</td>\n",
       "      <td>['windows', 'mac', 'linux']</td>\n",
       "      <td>...</td>\n",
       "      <td>[]</td>\n",
       "      <td>0</td>\n",
       "      <td>0</td>\n",
       "      <td>0</td>\n",
       "      <td>0.0</td>\n",
       "      <td>No user reviews</td>\n",
       "      <td>0.0</td>\n",
       "      <td>0</td>\n",
       "      <td>True</td>\n",
       "      <td>0.00</td>\n",
       "    </tr>\n",
       "  </tbody>\n",
       "</table>\n",
       "<p>5 rows × 21 columns</p>\n",
       "</div>"
      ],
      "text/plain": [
       "   Unnamed: 0  steam_appid                  name           developers  \\\n",
       "0           0      2719580              勇者の伝説の勇者             ['ぽけそう']   \n",
       "1           2      2719600  Lorhaven: Cursed War  ['GoldenGod Games']   \n",
       "2           3      2719610          PUIQ: Demons          ['Giammnn']   \n",
       "3           4      2719650        Project XSTING      ['Saucy Melon']   \n",
       "4           7      2719710         Manor Madness  ['Apericot Studio']   \n",
       "\n",
       "            publishers                                         categories  \\\n",
       "0             ['ぽけそう']                ['Single-player', 'Family Sharing']   \n",
       "1  ['GoldenGod Games']  ['Single-player', 'Multi-player', 'PvP', 'Shar...   \n",
       "2          ['Giammnn']  ['Single-player', 'Steam Achievements', 'Famil...   \n",
       "3      ['Saucy Melon']  ['Single-player', 'Steam Achievements', 'Steam...   \n",
       "4  ['Apericot Studio']  ['Single-player', 'Steam Achievements', 'HDR a...   \n",
       "\n",
       "                                              genres  required_age  \\\n",
       "0                                ['Casual', 'Indie']             0   \n",
       "1                                ['RPG', 'Strategy']             0   \n",
       "2               ['Action', 'Casual', 'Indie', 'RPG']             0   \n",
       "3      ['Action', 'Casual', 'Indie', 'Early Access']             0   \n",
       "4  ['Action', 'Adventure', 'Indie', 'RPG', 'Simul...             0   \n",
       "\n",
       "   n_achievements                    platforms  ... additional_content  \\\n",
       "0               0                  ['windows']  ...                 []   \n",
       "1              32           ['windows', 'mac']  ...                 []   \n",
       "2              28                  ['windows']  ...                 []   \n",
       "3              42                  ['windows']  ...                 []   \n",
       "4               5  ['windows', 'mac', 'linux']  ...                 []   \n",
       "\n",
       "  total_reviews  total_positive  total_negative  review_score  \\\n",
       "0             0               0               0           0.0   \n",
       "1             9               8               1           0.0   \n",
       "2             0               0               0           0.0   \n",
       "3             9               9               0           0.0   \n",
       "4             0               0               0           0.0   \n",
       "\n",
       "   review_score_desc positive_percentual  metacritic  is_free  \\\n",
       "0    No user reviews                 0.0           0    False   \n",
       "1     9 user reviews                88.9           0    False   \n",
       "2    No user reviews                 0.0           0    False   \n",
       "3     9 user reviews               100.0           0    False   \n",
       "4    No user reviews                 0.0           0     True   \n",
       "\n",
       "   price_initial (USD)  \n",
       "0                 0.99  \n",
       "1                 9.99  \n",
       "2                 2.99  \n",
       "3                 7.99  \n",
       "4                 0.00  \n",
       "\n",
       "[5 rows x 21 columns]"
      ]
     },
     "execution_count": 3,
     "metadata": {},
     "output_type": "execute_result"
    }
   ],
   "source": [
    "path = '../../data/processed/cleaned_games.csv'\n",
    "data = pd.read_csv(path)\n",
    "print(data.shape)\n",
    "data.head()"
   ]
  },
  {
   "cell_type": "code",
   "execution_count": 3,
   "metadata": {},
   "outputs": [
    {
     "data": {
      "application/vnd.vegalite.v5+json": {
       "$schema": "https://vega.github.io/schema/vega-lite/v5.20.1.json",
       "config": {
        "view": {
         "continuousHeight": 300,
         "continuousWidth": 300
        }
       },
       "datasets": {
        "empty": [
         {}
        ]
       },
       "hconcat": [
        {
         "vconcat": [
          {
           "data": {
            "name": "empty"
           },
           "encoding": {},
           "mark": {
            "type": "text"
           },
           "name": "view_1"
          },
          {
           "data": {
            "format": {
             "type": "json"
            },
            "url": "altairdata\\altair-data-40862e64d82dd3f56b990839a5657592.json"
           },
           "encoding": {
            "color": {
             "field": "categories",
             "type": "nominal"
            },
            "tooltip": {
             "aggregate": "count",
             "field": "categories",
             "type": "nominal"
            },
            "x": {
             "aggregate": "count",
             "field": "categories",
             "type": "nominal"
            },
            "y": {
             "field": "categories",
             "type": "nominal"
            }
           },
           "mark": {
            "type": "bar"
           },
           "name": "view_2",
           "title": "Total count of each category"
          },
          {
           "data": {
            "format": {
             "type": "json"
            },
            "url": "altairdata\\altair-data-40862e64d82dd3f56b990839a5657592.json"
           },
           "encoding": {
            "color": {
             "condition": {
              "field": "categories",
              "param": "param_1",
              "type": "nominal"
             },
             "value": "lightgray"
            },
            "theta": {
             "aggregate": "count",
             "field": "categories",
             "type": "nominal"
            },
            "tooltip": {
             "field": "categories",
             "type": "nominal"
            }
           },
           "mark": {
            "type": "arc"
           },
           "name": "view_3",
           "title": "Relative Size comparisons of Categories"
          }
         ]
        },
        {
         "data": {
          "format": {
           "type": "json"
          },
          "url": "altairdata\\altair-data-40862e64d82dd3f56b990839a5657592.json"
         },
         "encoding": {
          "color": {
           "condition": {
            "field": "categories",
            "param": "param_1",
            "type": "nominal"
           },
           "value": "lightgray"
          },
          "tooltip": {
           "aggregate": "mean",
           "field": "review_score",
           "type": "quantitative"
          },
          "x": {
           "field": "review_score",
           "title": "Review Scores",
           "type": "quantitative"
          },
          "y": {
           "aggregate": "count",
           "field": "total_reviews",
           "title": "Total votes",
           "type": "quantitative"
          }
         },
         "height": 500,
         "mark": {
          "type": "line"
         },
         "name": "view_4",
         "title": "Total amount of scores for each category",
         "transform": [
          {
           "filter": {
            "param": "categories"
           }
          }
         ],
         "width": 700
        }
       ],
       "params": [
        {
         "bind": {
          "input": "select",
          "name": "Select categories",
          "options": [
           "Single-player",
           "Multi-player",
           "PvP",
           "Co-op",
           "MMO",
           "Online Co-op",
           "Remote Play on TV",
           "Remote Play on Phone"
          ]
         },
         "name": "categories",
         "select": {
          "fields": [
           "categories"
          ],
          "type": "point"
         },
         "views": [
          "view_1",
          "view_4"
         ]
        },
        {
         "name": "param_1",
         "select": {
          "fields": [
           "categories"
          ],
          "type": "point"
         },
         "views": [
          "view_2",
          "view_3",
          "view_4"
         ]
        }
       ]
      },
      "text/plain": [
       "<VegaLite 5 object>\n",
       "\n",
       "If you see this message, it means the renderer has not been properly enabled\n",
       "for the frontend that you are using. For more information, see\n",
       "https://altair-viz.github.io/user_guide/display_frontends.html#troubleshooting\n"
      ]
     },
     "execution_count": 3,
     "metadata": {},
     "output_type": "execute_result"
    }
   ],
   "source": [
    "countByDeveloper = data.groupby('developers')['review_score'].mean().reset_index(name='Count')\n",
    "\n",
    "top10Dev = countByDeveloper.sort_values('Count',ascending=False)\n",
    "\n",
    "\n",
    "dataWithTop10Dev = data[data['developers'].isin(top10Dev['developers'])]\n",
    "dataWithTop10Dev['categories'] = dataWithTop10Dev['categories'].apply(ast.literal_eval)\n",
    "dataWithTop10Dev = dataWithTop10Dev.explode('categories')\n",
    "\n",
    "\n",
    "removeGenres = ['Captions available','In-App Purchases','Remote Play Together' ,\n",
    "                'Partial Controller Support','Cross-Platform Multiplayer',\n",
    "                'Online PvP','Full controller support', 'HDR avaliable', \n",
    "                'Includes level editor','HDR available', 'Remote Play on Tablet',\n",
    "                'Shared/Split Screen Co-op', 'Shared/Split Screen','Shared/Split Screen PvP',\n",
    "                'Stats','Steam Trading Cards','Steam Workshop','Family Sharing','VR Only', 'VR Support', \n",
    "                'VR Supported', 'Tracked Controller Support','Steam Leaderboards', 'Steam Cloud', 'Mods', 'Steam Achievements',\n",
    "                'Commentry Avaliable','Shared/Split Screen PvP','Steam Turn Notifications', 'Commentary available', 'Steam Timeline', \n",
    "                'Includes Source SDK', 'SteamVR Collectibles','Valve Anti-Cheat enabled', 'Mods (require HL2)',\n",
    "                'LAN Co-op', 'LAN PvP']\n",
    "\n",
    "filteredData = dataWithTop10Dev[~dataWithTop10Dev['categories'].isin(removeGenres)].dropna()\n",
    "\n",
    "selector = alt.selection_point(fields=['categories'])\n",
    "\n",
    "dropdown = alt.selection_point(\n",
    "    name='categories',\n",
    "    fields=['categories'],\n",
    "    bind=alt.binding_select(options=filteredData['categories'].unique().tolist(), name='Select categories')\n",
    ")\n",
    "\n",
    "plotOfReviews = alt.Chart(filteredData).mark_line().encode(\n",
    "    x=alt.X('review_score:Q',title='Review Scores'),\n",
    "    y=alt.Y('count(total_reviews)',title='Total votes'),\n",
    "    color=alt.condition(selector, 'categories:N', alt.value('lightgray')),\n",
    "    tooltip='mean(review_score):Q'\n",
    ").transform_filter(\n",
    "    dropdown  \n",
    ").add_params(\n",
    "    selector,\n",
    "    dropdown\n",
    ").properties(\n",
    "    width=700,\n",
    "    height=500,\n",
    "    title='Total amount of scores for each category'\n",
    ")\n",
    "\n",
    "categoryDistrabution = alt.Chart(filteredData).mark_bar().encode(\n",
    "    x='count(categories):N',\n",
    "    y='categories:N',\n",
    "    color='categories:N',\n",
    "    tooltip='count(categories):N'\n",
    ").add_params(\n",
    "    selector\n",
    ").properties(\n",
    "    title='Total count of each category'\n",
    ")\n",
    "\n",
    "pieCount = alt.Chart(filteredData).mark_arc().encode(\n",
    "    theta='count(categories):N',  \n",
    "    color=alt.condition(selector, 'categories:N', alt.value('lightgray')),\n",
    "    tooltip='categories:N'\n",
    ").add_params(\n",
    "    selector\n",
    ").properties(\n",
    "    title='Relative Size comparisons of Categories'\n",
    ")\n",
    "\n",
    "dropChart = alt.Chart().mark_text().encode().add_params(dropdown)\n",
    "\n",
    "view =  (dropChart & categoryDistrabution & pieCount) | (plotOfReviews)\n",
    "\n",
    "view\n"
   ]
  },
  {
   "cell_type": "markdown",
   "metadata": {},
   "source": [
    "The research goal of this visualization is to answer: does a game higher with the existence of a certain category? This visualization shows that there does seem to be a difference in score when certain categories exist. Notice that the area under the single-player line, Multiplayer line, and Co-op line seem to be larger on the right-side end of the graph where the higher rated game is compared to the center of the graph where mediocre games exist.\n",
    "\n",
    "I have chosen a line graph to show the trends of the review scores as we progress from lower end games to higher end ones. This is compared to the Total count of the all the total reviews that exist for each score point. The color channel is based on the Category type. The Bar chart and Pie chart help supplement this view by showing the total number of categories which exist as there could be an over representation bias. There does seem like there is way more single player games than any other category, however the rest of the categories share equal space. There are two interactions that exist here, first is that we can click and select any category to show just color just for that category. Second is that our dropdown allows us to have a blown-up view of a particular category on the line graph.\n",
    "\n",
    "This view could be made better by having a reset button to return a chosen dropdown state to the original view. The line graph also has a large exasperation at score = 0 due to the shear number of games that have been rated at this score. One solution would be to just ignore this as the difference between a 1 game and 0 game is negligible and perhaps have a different graph comparing the that point for each category separately while cleaning up the main view of the line chart."
   ]
  },
  {
   "cell_type": "code",
   "execution_count": 4,
   "metadata": {},
   "outputs": [
    {
     "data": {
      "application/vnd.vegalite.v5+json": {
       "$schema": "https://vega.github.io/schema/vega-lite/v5.20.1.json",
       "config": {
        "view": {
         "continuousHeight": 300,
         "continuousWidth": 300
        }
       },
       "params": [
        {
         "bind": {
          "input": "range",
          "max": 9,
          "min": 0,
          "name": "Select Score",
          "step": 1
         },
         "name": "score_slider",
         "select": {
          "fields": [
           "review_score"
          ],
          "type": "point"
         },
         "value": 5,
         "views": [
          "view_5"
         ]
        }
       ],
       "vconcat": [
        {
         "hconcat": [
          {
           "data": {
            "format": {
             "type": "json"
            },
            "url": "altairdata\\altair-data-ba30c49acf498761234c2b59a3c7a232.json"
           },
           "encoding": {
            "color": {
             "field": "review_score",
             "type": "quantitative"
            },
            "x": {
             "field": "catSize",
             "title": "Number of Categories",
             "type": "quantitative"
            },
            "y": {
             "aggregate": "count",
             "field": "n_achievement",
             "title": "Total number of Achievements",
             "type": "quantitative"
            }
           },
           "height": 300,
           "mark": {
            "type": "area"
           },
           "title": "Amount of Categories in Lowest 20000 Rated Games",
           "width": 300
          },
          {
           "data": {
            "format": {
             "type": "json"
            },
            "url": "altairdata\\altair-data-5c0176ff89c8186426492c26e0a41f5e.json"
           },
           "encoding": {
            "color": {
             "field": "review_score",
             "type": "quantitative"
            },
            "x": {
             "field": "catSize",
             "title": "Number of Categories",
             "type": "quantitative"
            },
            "y": {
             "aggregate": "count",
             "field": "n_achievement",
             "title": "Total number of Achievements",
             "type": "quantitative"
            }
           },
           "height": 300,
           "mark": {
            "type": "area"
           },
           "title": "Amount of Categories in Highest 20000 Rated Games",
           "width": 300
          }
         ]
        },
        {
         "data": {
          "format": {
           "type": "json"
          },
          "url": "altairdata\\altair-data-a3c97c1254ae150f41e892beb30fe169.json"
         },
         "encoding": {
          "color": {
           "field": "review_score",
           "type": "quantitative"
          },
          "x": {
           "field": "catSize",
           "title": "Number of Categories",
           "type": "quantitative"
          },
          "y": {
           "aggregate": "count",
           "field": "n_achievement",
           "title": "Total number of Achievements",
           "type": "quantitative"
          }
         },
         "height": 300,
         "mark": {
          "type": "bar"
         },
         "name": "view_5",
         "title": "Distrabution of Category amount per Rating Score",
         "transform": [
          {
           "filter": {
            "param": "score_slider"
           }
          }
         ],
         "width": 400
        }
       ]
      },
      "text/plain": [
       "<VegaLite 5 object>\n",
       "\n",
       "If you see this message, it means the renderer has not been properly enabled\n",
       "for the frontend that you are using. For more information, see\n",
       "https://altair-viz.github.io/user_guide/display_frontends.html#troubleshooting\n"
      ]
     },
     "execution_count": 4,
     "metadata": {},
     "output_type": "execute_result"
    }
   ],
   "source": [
    "bottomRated = data.sort_values(by='review_score',ascending=True).head(20000)\n",
    "topRated = data.sort_values(by='review_score',ascending=False).head(20000)\n",
    "\n",
    "bottomRated['categories'] = bottomRated['categories'].apply(lambda x: x.split(','))\n",
    "bottomRated['catSize'] = bottomRated['categories'].apply(len)\n",
    "\n",
    "topRated['categories'] = topRated['categories'].apply(lambda x: x.split(','))\n",
    "topRated['catSize'] = topRated['categories'].apply(len)\n",
    "\n",
    "total = pd.DataFrame(data)\n",
    "total['categories'] = total['categories'].apply(lambda x: x.split(','))\n",
    "total['catSize'] = total['categories'].apply(len)\n",
    "\n",
    "\n",
    "\n",
    "bottomChart = alt.Chart(bottomRated).mark_area().encode(\n",
    "    x=alt.X('catSize:Q',title='Number of Categories'),\n",
    "    y=alt.Y('count(n_achievement):Q',title='Total number of Achievements'),\n",
    "    color='review_score'\n",
    ").properties(\n",
    "    width=300,\n",
    "    height=300,\n",
    "    title='Amount of Categories in Lowest 20000 Rated Games'\n",
    ")\n",
    "\n",
    "topChart = alt.Chart(topRated).mark_area().encode(\n",
    "    x=alt.X('catSize:Q',title='Number of Categories'),\n",
    "    y=alt.Y('count(n_achievement):Q',title='Total number of Achievements'),\n",
    "    color='review_score'\n",
    ").properties(\n",
    "    width=300,\n",
    "    height=300,\n",
    "    title='Amount of Categories in Highest 20000 Rated Games'\n",
    ")\n",
    "\n",
    "slider = alt.selection_point(\n",
    "    name='score_slider',\n",
    "    fields=['review_score'],\n",
    "    bind=alt.binding_range(min=0, max=9, step=1, name=\"Select Score\"),\n",
    "    value=5 \n",
    ")\n",
    "\n",
    "categoriesForIndividualScore = alt.Chart(total).mark_bar().encode(\n",
    "    x=alt.X('catSize:Q',title='Number of Categories'),\n",
    "    y=alt.Y('count(n_achievement):Q',title='Total number of Achievements'),\n",
    "    color='review_score'\n",
    ").add_params(\n",
    "    slider\n",
    ").transform_filter(\n",
    "    slider\n",
    ").properties(\n",
    "    width=400,\n",
    "    height=300,\n",
    "    title='Distrabution of Category amount per Rating Score'\n",
    ")\n",
    "\n",
    "view = (bottomChart | topChart) & (categoriesForIndividualScore)\n",
    "view\n"
   ]
  },
  {
   "cell_type": "markdown",
   "metadata": {},
   "source": [
    "The research goal of this visualization is to answer: In general, do games with more achievements have more categories associated with them? And are games with more achievement good games? This visualization shows that there does seem to be a difference where higher rated games tend to lean towards having more categories than the lower ranked games. This is noticed by how the area of the top-rated games have a sizable shift towards the higher end of the x axis compared to the lower rated games chart. This can also be shown by the bottom graph as one can see the movement of data from one side to the other as we go from lower rated games to higher rated ones. \n",
    "\n",
    "I have chosen area graphs to represent the number of categories on the x axis vs the total amount of achievements on the y axis. I have done this since there is so much data, other marks could become too cluttered and confusing. The color mark is then used to show how much each area belongs to a certain rating of games. This allows us to see the trends of how high rated games tend to behave given these two variables. To take a closer look at each individual score, another chart was added to show the same data but for one score rating at a time, which can be controlled by a slider. Essentially the top graphs can show us a holistic view while the bottom one can help see a more precise look to help us answer the question. \n",
    "\n",
    "This view could be made better by having perhaps lines which also show where the Metacritic score falls onto this data and see if any comparisons can be made from that. Also, perhaps instead of stacked area charts, maybe if they were facted instead it would make the visualization look a bit cleaner."
   ]
  },
  {
   "cell_type": "code",
   "execution_count": 5,
   "metadata": {},
   "outputs": [
    {
     "data": {
      "application/vnd.vegalite.v5+json": {
       "$schema": "https://vega.github.io/schema/vega-lite/v5.20.1.json",
       "config": {
        "view": {
         "continuousHeight": 300,
         "continuousWidth": 300
        }
       },
       "params": [
        {
         "bind": {
          "input": "radio",
          "name": "Scores",
          "options": [
           0,
           1,
           2,
           3,
           4,
           5,
           6,
           7,
           8,
           9
          ]
         },
         "name": "param_2",
         "select": {
          "fields": [
           "score"
          ],
          "type": "point"
         },
         "views": [
          "view_6"
         ]
        }
       ],
       "vconcat": [
        {
         "data": {
          "format": {
           "type": "json"
          },
          "url": "altairdata\\altair-data-17a2b508b1bbd83ae7713f2f365ddc65.json"
         },
         "facet": {
          "column": {
           "field": "Group",
           "title": null,
           "type": "nominal"
          }
         },
         "spec": {
          "encoding": {
           "color": {
            "field": "Group",
            "type": "nominal"
           },
           "tooltip": [
            {
             "field": "Group",
             "type": "nominal"
            },
            {
             "field": "count",
             "type": "quantitative"
            },
            {
             "field": "density",
             "type": "quantitative"
            }
           ],
           "x": {
            "field": "count",
            "type": "quantitative"
           },
           "y": {
            "field": "density",
            "type": "quantitative"
           }
          },
          "mark": {
           "opacity": 0.5,
           "type": "area"
          },
          "transform": [
           {
            "as": [
             "count",
             "density"
            ],
            "density": "count",
            "groupby": [
             "Group"
            ]
           }
          ]
         },
         "title": "Density of Categories in Lowest and Highest preforming games"
        },
        {
         "data": {
          "format": {
           "type": "json"
          },
          "url": "altairdata\\altair-data-bd47cad5f3a8caf9a98c8afa67b881a5.json"
         },
         "hconcat": [
          {
           "encoding": {
            "color": {
             "condition": {
              "field": "score",
              "param": "param_2",
              "type": "quantitative"
             },
             "value": "lightgray"
            },
            "x": {
             "field": "count",
             "type": "quantitative"
            },
            "y": {
             "field": "score",
             "type": "quantitative"
            }
           },
           "mark": {
            "filled": true,
            "type": "bar"
           },
           "name": "view_6",
           "title": "Scores vs number of categories"
          },
          {
           "encoding": {
            "color": {
             "field": "count",
             "scale": {
              "scheme": "viridis"
             },
             "type": "quantitative"
            },
            "theta": {
             "field": "score",
             "type": "quantitative"
            },
            "tooltip": {
             "field": "count",
             "type": "quantitative"
            }
           },
           "mark": {
            "type": "arc"
           },
           "title": "Difference in amount of Categories for each score"
          }
         ]
        }
       ]
      },
      "text/plain": [
       "<VegaLite 5 object>\n",
       "\n",
       "If you see this message, it means the renderer has not been properly enabled\n",
       "for the frontend that you are using. For more information, see\n",
       "https://altair-viz.github.io/user_guide/display_frontends.html#troubleshooting\n"
      ]
     },
     "execution_count": 5,
     "metadata": {},
     "output_type": "execute_result"
    }
   ],
   "source": [
    "catCountData = pd.DataFrame(data)\n",
    "catCountData['categories'] = data['categories'].apply(ast.literal_eval)\n",
    "catCountData = catCountData.explode('categories')\n",
    "\n",
    "catCountSummary = catCountData.groupby('developers').agg(\n",
    "    count=('categories', 'nunique'),  \n",
    "    score=('review_score', 'mean')  \n",
    ").reset_index()\n",
    "\n",
    "bottomRated = catCountSummary.sort_values(by='score', ascending=True).head(20000)\n",
    "topRated = catCountSummary.sort_values(by='score', ascending=False).head(20000)\n",
    "\n",
    "topRated['Group'] = 'Top Rated'\n",
    "bottomRated['Group'] = 'Bottom Rated'\n",
    "combined = pd.concat([topRated, bottomRated])\n",
    "\n",
    "\n",
    "\n",
    "density = alt.Chart(combined).transform_density(\n",
    "    'count',\n",
    "    as_=['count', 'density'],\n",
    "    groupby=['Group']\n",
    ").mark_area(\n",
    "    opacity=0.5\n",
    ").encode(\n",
    "    x='count:Q',\n",
    "    y='density:Q',\n",
    "    color='Group:N',\n",
    "    tooltip=['Group:N', 'count:Q', 'density:Q']\n",
    ").facet(\n",
    "    column = alt.Column(\"Group:N\", title=None)\n",
    ").properties(\n",
    "    title='Density of Categories in Lowest and Highest preforming games'\n",
    ")\n",
    "\n",
    "pie = alt.Chart(catCountSummary).mark_arc().encode(\n",
    "    theta='score',\n",
    "    color=alt.Color('count:Q', scale=alt.Scale(scheme='viridis')),\n",
    "    tooltip='count'\n",
    ").properties(\n",
    "    title='Difference in amount of Categories for each score'\n",
    ")\n",
    "\n",
    "scores = [0,1,2,3,4,5,6,7,8,9]\n",
    "scoreRadio = alt.binding_radio(options=scores, name=\"Scores\")\n",
    "selectScore = alt.selection_point(fields=['score'], bind=scoreRadio)\n",
    "\n",
    "scoreColor = (\n",
    "    alt.when(selectScore)\n",
    "    .then(alt.Color(\"score:Q\"))\n",
    "    .otherwise(alt.value(\"lightgray\"))\n",
    ")\n",
    "\n",
    "points = alt.Chart(catCountSummary).mark_bar(filled=True).encode(\n",
    "    y='score',\n",
    "    x='count'\n",
    ").add_params(\n",
    "    selectScore\n",
    ").encode(\n",
    "    color=scoreColor\n",
    ").properties(title=\"Scores vs number of categories\")\n",
    "\n",
    "density & (points | pie)"
   ]
  },
  {
   "cell_type": "markdown",
   "metadata": {},
   "source": [
    "The research goal of this visualization is to answer: Does a game which has more categories associated with it do better than ones who meet few categories?  This visualization shows that there does seem to be a difference as the higher rated games tend to contain more categories than the lower rated ones. This is noticed by how the density of the top-rated games has a much longer tail to the higher counts of categories than the lower rated ones.\n",
    "\n",
    "I have chosen density graphs as since I am using most of the large dataset, this would be an excellent way to showcase large data in an interpretable way. The density is comprised of the count of categories that each game has based on the count again for the x axis. Then to show how the scores compare to the counts, a bar chart with radio buttons will show the trend of the scores in the data. This graph shows that good games tend have a large range of how many categories they tend to have. The pie chart shows how many games have a particular number of categories, which allows us to see if there are any data significance to take into consideration. The bar chart and the pie chart are using this color theme since it allows us to more easily distinguish between sections while also showing ordinal progression.\n",
    "\n",
    "This view could be made better by having a different view for the pie chart since some of the slices are very thin and are not as visible. There could also be more interactivity where we could be able to control the size of the data for the density to see how sample size effects this finding."
   ]
  },
  {
   "cell_type": "markdown",
   "metadata": {},
   "source": []
  }
 ],
 "metadata": {
  "kernelspec": {
   "display_name": "base",
   "language": "python",
   "name": "python3"
  },
  "language_info": {
   "codemirror_mode": {
    "name": "ipython",
    "version": 3
   },
   "file_extension": ".py",
   "mimetype": "text/x-python",
   "name": "python",
   "nbconvert_exporter": "python",
   "pygments_lexer": "ipython3",
   "version": "3.12.3"
  }
 },
 "nbformat": 4,
 "nbformat_minor": 2
}
