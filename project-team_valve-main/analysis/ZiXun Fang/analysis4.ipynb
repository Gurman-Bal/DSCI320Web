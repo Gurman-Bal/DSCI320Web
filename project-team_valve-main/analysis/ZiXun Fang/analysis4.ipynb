{
 "cells": [
  {
   "cell_type": "markdown",
   "id": "446666a2-1bfa-4bf3-b070-44f6d1b05b3b",
   "metadata": {},
   "source": [
    "# ZiXun Fang"
   ]
  },
  {
   "cell_type": "markdown",
   "id": "5ba7188f-3ebf-4326-9677-af64a6832d1e",
   "metadata": {},
   "source": [
    "## Research question/interests\n",
    "\n",
    "### Research Question\n",
    "\n",
    "1. Is there a significant difference in users' and gaming medias’ positive reviews for free, low-paid, medium-paid, and high-paid games?\n",
    "\n",
    "2. Is there a significant difference in gamers and gaming media ratings across different game categories?\n",
    "\n",
    "3. Is there a significant difference in gamers and gaming media ratings between indie games and non-indie games?\n",
    "\n",
    "My research question aims to find the relationship between game pricing strategies and positive reviews. Positive reviews will focus on positive reviews, percentaul on steams and Metacritic scores. Despite the controversy surrounding gaming media ratings (IGN), I think they are still more objective than personal ratings, which often include personal bias and hatred of other games. By examining this relationship, we can see if players have a higher tolerance for free or low-paid games, This might be one of the reasons why popular game publishers are willing to convert paid games into free games.\n",
    "\n",
    "### Interests\n",
    "\n",
    "Nowadays, the video game industry is highly competitive, with outstanding game quality and different pricing strategies. Free and low-paid games prioritize gamers' accessibility and expand awareness, while high-paid games usually rely on their IP values and excellent game qualities. In the past few years, some popular games (CSGO, PUBG, etc.) have changed from paid to free. Thus, as a finance student, it is interesting to investigate how pricing models (free, low, medium and high) affect users’ and gaming media reviews. It could inform data-driven decision-making for game monetization and flexible pricing strategies."
   ]
  },
  {
   "cell_type": "code",
   "execution_count": 1,
   "id": "fc8b0d6a-d6bd-41ac-99b5-f10aa8c35c15",
   "metadata": {},
   "outputs": [
    {
     "data": {
      "text/plain": [
       "RendererRegistry.enable('jupyterlab')"
      ]
     },
     "execution_count": 1,
     "metadata": {},
     "output_type": "execute_result"
    }
   ],
   "source": [
    "# Run this cell to ensure that altair plots show up without having\n",
    "# the notebook be really large.\n",
    "# We will talk more about what these lines do later in the course\n",
    "\n",
    "import os\n",
    "import altair as alt\n",
    "import pandas as pd\n",
    "from toolz.curried import pipe\n",
    "import numpy as np\n",
    "\n",
    "# Create a new data transformer that stores the files in a directory\n",
    "def json_dir(data, data_dir='altairdata'):\n",
    "    os.makedirs(data_dir, exist_ok=True)\n",
    "    return pipe(data, alt.to_json(filename=data_dir + '/{prefix}-{hash}.{extension}') )\n",
    "\n",
    "# Register and enable the new transformer\n",
    "alt.data_transformers.register('json_dir', json_dir)\n",
    "alt.data_transformers.enable('json_dir')\n",
    "\n",
    "# Handle large data sets (default shows only 5000)\n",
    "# See here: https://altair-viz.github.io/user_guide/data_transformers.html\n",
    "alt.data_transformers.disable_max_rows()\n",
    "\n",
    "alt.renderers.enable('jupyterlab')"
   ]
  },
  {
   "cell_type": "markdown",
   "id": "31f497ac-69d3-4a49-9db7-b4773470218b",
   "metadata": {},
   "source": [
    "## EDA"
   ]
  },
  {
   "cell_type": "code",
   "execution_count": 9,
   "id": "a9520241-5ffe-4d32-a866-a2ea6299e216",
   "metadata": {},
   "outputs": [
    {
     "name": "stdout",
     "output_type": "stream",
     "text": [
      "(58041, 21)\n"
     ]
    },
    {
     "data": {
      "text/html": [
       "<div>\n",
       "<style scoped>\n",
       "    .dataframe tbody tr th:only-of-type {\n",
       "        vertical-align: middle;\n",
       "    }\n",
       "\n",
       "    .dataframe tbody tr th {\n",
       "        vertical-align: top;\n",
       "    }\n",
       "\n",
       "    .dataframe thead th {\n",
       "        text-align: right;\n",
       "    }\n",
       "</style>\n",
       "<table border=\"1\" class=\"dataframe\">\n",
       "  <thead>\n",
       "    <tr style=\"text-align: right;\">\n",
       "      <th></th>\n",
       "      <th>Unnamed: 0</th>\n",
       "      <th>steam_appid</th>\n",
       "      <th>name</th>\n",
       "      <th>developers</th>\n",
       "      <th>publishers</th>\n",
       "      <th>categories</th>\n",
       "      <th>genres</th>\n",
       "      <th>required_age</th>\n",
       "      <th>n_achievements</th>\n",
       "      <th>platforms</th>\n",
       "      <th>...</th>\n",
       "      <th>additional_content</th>\n",
       "      <th>total_reviews</th>\n",
       "      <th>total_positive</th>\n",
       "      <th>total_negative</th>\n",
       "      <th>review_score</th>\n",
       "      <th>review_score_desc</th>\n",
       "      <th>positive_percentual</th>\n",
       "      <th>metacritic</th>\n",
       "      <th>is_free</th>\n",
       "      <th>price_initial (USD)</th>\n",
       "    </tr>\n",
       "  </thead>\n",
       "  <tbody>\n",
       "    <tr>\n",
       "      <th>0</th>\n",
       "      <td>0</td>\n",
       "      <td>2719580</td>\n",
       "      <td>勇者の伝説の勇者</td>\n",
       "      <td>['ぽけそう']</td>\n",
       "      <td>['ぽけそう']</td>\n",
       "      <td>['Single-player', 'Family Sharing']</td>\n",
       "      <td>['Casual', 'Indie']</td>\n",
       "      <td>0</td>\n",
       "      <td>0</td>\n",
       "      <td>['windows']</td>\n",
       "      <td>...</td>\n",
       "      <td>[]</td>\n",
       "      <td>0</td>\n",
       "      <td>0</td>\n",
       "      <td>0</td>\n",
       "      <td>0.0</td>\n",
       "      <td>No user reviews</td>\n",
       "      <td>0.0</td>\n",
       "      <td>0</td>\n",
       "      <td>False</td>\n",
       "      <td>0.99</td>\n",
       "    </tr>\n",
       "    <tr>\n",
       "      <th>1</th>\n",
       "      <td>2</td>\n",
       "      <td>2719600</td>\n",
       "      <td>Lorhaven: Cursed War</td>\n",
       "      <td>['GoldenGod Games']</td>\n",
       "      <td>['GoldenGod Games']</td>\n",
       "      <td>['Single-player', 'Multi-player', 'PvP', 'Shar...</td>\n",
       "      <td>['RPG', 'Strategy']</td>\n",
       "      <td>0</td>\n",
       "      <td>32</td>\n",
       "      <td>['windows', 'mac']</td>\n",
       "      <td>...</td>\n",
       "      <td>[]</td>\n",
       "      <td>9</td>\n",
       "      <td>8</td>\n",
       "      <td>1</td>\n",
       "      <td>0.0</td>\n",
       "      <td>9 user reviews</td>\n",
       "      <td>88.9</td>\n",
       "      <td>0</td>\n",
       "      <td>False</td>\n",
       "      <td>9.99</td>\n",
       "    </tr>\n",
       "    <tr>\n",
       "      <th>2</th>\n",
       "      <td>3</td>\n",
       "      <td>2719610</td>\n",
       "      <td>PUIQ: Demons</td>\n",
       "      <td>['Giammnn']</td>\n",
       "      <td>['Giammnn']</td>\n",
       "      <td>['Single-player', 'Steam Achievements', 'Famil...</td>\n",
       "      <td>['Action', 'Casual', 'Indie', 'RPG']</td>\n",
       "      <td>0</td>\n",
       "      <td>28</td>\n",
       "      <td>['windows']</td>\n",
       "      <td>...</td>\n",
       "      <td>[]</td>\n",
       "      <td>0</td>\n",
       "      <td>0</td>\n",
       "      <td>0</td>\n",
       "      <td>0.0</td>\n",
       "      <td>No user reviews</td>\n",
       "      <td>0.0</td>\n",
       "      <td>0</td>\n",
       "      <td>False</td>\n",
       "      <td>2.99</td>\n",
       "    </tr>\n",
       "    <tr>\n",
       "      <th>3</th>\n",
       "      <td>4</td>\n",
       "      <td>2719650</td>\n",
       "      <td>Project XSTING</td>\n",
       "      <td>['Saucy Melon']</td>\n",
       "      <td>['Saucy Melon']</td>\n",
       "      <td>['Single-player', 'Steam Achievements', 'Steam...</td>\n",
       "      <td>['Action', 'Casual', 'Indie', 'Early Access']</td>\n",
       "      <td>0</td>\n",
       "      <td>42</td>\n",
       "      <td>['windows']</td>\n",
       "      <td>...</td>\n",
       "      <td>[]</td>\n",
       "      <td>9</td>\n",
       "      <td>9</td>\n",
       "      <td>0</td>\n",
       "      <td>0.0</td>\n",
       "      <td>9 user reviews</td>\n",
       "      <td>100.0</td>\n",
       "      <td>0</td>\n",
       "      <td>False</td>\n",
       "      <td>7.99</td>\n",
       "    </tr>\n",
       "    <tr>\n",
       "      <th>4</th>\n",
       "      <td>7</td>\n",
       "      <td>2719710</td>\n",
       "      <td>Manor Madness</td>\n",
       "      <td>['Apericot Studio']</td>\n",
       "      <td>['Apericot Studio']</td>\n",
       "      <td>['Single-player', 'Steam Achievements', 'HDR a...</td>\n",
       "      <td>['Action', 'Adventure', 'Indie', 'RPG', 'Simul...</td>\n",
       "      <td>0</td>\n",
       "      <td>5</td>\n",
       "      <td>['windows', 'mac', 'linux']</td>\n",
       "      <td>...</td>\n",
       "      <td>[]</td>\n",
       "      <td>0</td>\n",
       "      <td>0</td>\n",
       "      <td>0</td>\n",
       "      <td>0.0</td>\n",
       "      <td>No user reviews</td>\n",
       "      <td>0.0</td>\n",
       "      <td>0</td>\n",
       "      <td>True</td>\n",
       "      <td>0.00</td>\n",
       "    </tr>\n",
       "  </tbody>\n",
       "</table>\n",
       "<p>5 rows × 21 columns</p>\n",
       "</div>"
      ],
      "text/plain": [
       "   Unnamed: 0  steam_appid                  name           developers  \\\n",
       "0           0      2719580              勇者の伝説の勇者             ['ぽけそう']   \n",
       "1           2      2719600  Lorhaven: Cursed War  ['GoldenGod Games']   \n",
       "2           3      2719610          PUIQ: Demons          ['Giammnn']   \n",
       "3           4      2719650        Project XSTING      ['Saucy Melon']   \n",
       "4           7      2719710         Manor Madness  ['Apericot Studio']   \n",
       "\n",
       "            publishers                                         categories  \\\n",
       "0             ['ぽけそう']                ['Single-player', 'Family Sharing']   \n",
       "1  ['GoldenGod Games']  ['Single-player', 'Multi-player', 'PvP', 'Shar...   \n",
       "2          ['Giammnn']  ['Single-player', 'Steam Achievements', 'Famil...   \n",
       "3      ['Saucy Melon']  ['Single-player', 'Steam Achievements', 'Steam...   \n",
       "4  ['Apericot Studio']  ['Single-player', 'Steam Achievements', 'HDR a...   \n",
       "\n",
       "                                              genres  required_age  \\\n",
       "0                                ['Casual', 'Indie']             0   \n",
       "1                                ['RPG', 'Strategy']             0   \n",
       "2               ['Action', 'Casual', 'Indie', 'RPG']             0   \n",
       "3      ['Action', 'Casual', 'Indie', 'Early Access']             0   \n",
       "4  ['Action', 'Adventure', 'Indie', 'RPG', 'Simul...             0   \n",
       "\n",
       "   n_achievements                    platforms  ... additional_content  \\\n",
       "0               0                  ['windows']  ...                 []   \n",
       "1              32           ['windows', 'mac']  ...                 []   \n",
       "2              28                  ['windows']  ...                 []   \n",
       "3              42                  ['windows']  ...                 []   \n",
       "4               5  ['windows', 'mac', 'linux']  ...                 []   \n",
       "\n",
       "  total_reviews  total_positive  total_negative  review_score  \\\n",
       "0             0               0               0           0.0   \n",
       "1             9               8               1           0.0   \n",
       "2             0               0               0           0.0   \n",
       "3             9               9               0           0.0   \n",
       "4             0               0               0           0.0   \n",
       "\n",
       "   review_score_desc positive_percentual  metacritic  is_free  \\\n",
       "0    No user reviews                 0.0           0    False   \n",
       "1     9 user reviews                88.9           0    False   \n",
       "2    No user reviews                 0.0           0    False   \n",
       "3     9 user reviews               100.0           0    False   \n",
       "4    No user reviews                 0.0           0     True   \n",
       "\n",
       "   price_initial (USD)  \n",
       "0                 0.99  \n",
       "1                 9.99  \n",
       "2                 2.99  \n",
       "3                 7.99  \n",
       "4                 0.00  \n",
       "\n",
       "[5 rows x 21 columns]"
      ]
     },
     "execution_count": 9,
     "metadata": {},
     "output_type": "execute_result"
    }
   ],
   "source": [
    "path = '../../data/processed/cleaned_games.csv'\n",
    "data = pd.read_csv(path)\n",
    "print(data.shape)\n",
    "data.head()"
   ]
  },
  {
   "cell_type": "code",
   "execution_count": 10,
   "id": "5f51f8e3-db4a-4d95-b403-f74e09d1bf0e",
   "metadata": {},
   "outputs": [],
   "source": [
    "filtered_columns = ['name', 'developers','categories','genres','release_date', 'total_reviews', 'total_positive', \n",
    "                    'total_negative', 'review_score', 'review_score_desc', 'positive_percentual', \n",
    "                    'metacritic', 'is_free', 'price_initial (USD)']"
   ]
  },
  {
   "cell_type": "code",
   "execution_count": 11,
   "id": "b87e3777-ee27-4b7e-878e-9fa839e34a66",
   "metadata": {},
   "outputs": [
    {
     "data": {
      "text/html": [
       "<div>\n",
       "<style scoped>\n",
       "    .dataframe tbody tr th:only-of-type {\n",
       "        vertical-align: middle;\n",
       "    }\n",
       "\n",
       "    .dataframe tbody tr th {\n",
       "        vertical-align: top;\n",
       "    }\n",
       "\n",
       "    .dataframe thead th {\n",
       "        text-align: right;\n",
       "    }\n",
       "</style>\n",
       "<table border=\"1\" class=\"dataframe\">\n",
       "  <thead>\n",
       "    <tr style=\"text-align: right;\">\n",
       "      <th></th>\n",
       "      <th>name</th>\n",
       "      <th>developers</th>\n",
       "      <th>categories</th>\n",
       "      <th>genres</th>\n",
       "      <th>release_date</th>\n",
       "      <th>total_reviews</th>\n",
       "      <th>total_positive</th>\n",
       "      <th>total_negative</th>\n",
       "      <th>review_score</th>\n",
       "      <th>review_score_desc</th>\n",
       "      <th>positive_percentual</th>\n",
       "      <th>metacritic</th>\n",
       "      <th>is_free</th>\n",
       "      <th>price_initial (USD)</th>\n",
       "    </tr>\n",
       "  </thead>\n",
       "  <tbody>\n",
       "    <tr>\n",
       "      <th>24</th>\n",
       "      <td>Night Raider</td>\n",
       "      <td>['Tsukuyomi']</td>\n",
       "      <td>['Single-player', 'Family Sharing']</td>\n",
       "      <td>['Adventure', 'Indie']</td>\n",
       "      <td>2024-01-26</td>\n",
       "      <td>176</td>\n",
       "      <td>157</td>\n",
       "      <td>19</td>\n",
       "      <td>8.0</td>\n",
       "      <td>Very Positive</td>\n",
       "      <td>89.2</td>\n",
       "      <td>0</td>\n",
       "      <td>False</td>\n",
       "      <td>5.99</td>\n",
       "    </tr>\n",
       "    <tr>\n",
       "      <th>47</th>\n",
       "      <td>Tobla - Divine Path</td>\n",
       "      <td>['Nementic Games']</td>\n",
       "      <td>['Single-player', 'Steam Achievements', 'Full ...</td>\n",
       "      <td>['Adventure', 'Casual', 'Indie']</td>\n",
       "      <td>2024-03-29</td>\n",
       "      <td>92</td>\n",
       "      <td>86</td>\n",
       "      <td>6</td>\n",
       "      <td>8.0</td>\n",
       "      <td>Very Positive</td>\n",
       "      <td>93.5</td>\n",
       "      <td>0</td>\n",
       "      <td>False</td>\n",
       "      <td>7.99</td>\n",
       "    </tr>\n",
       "    <tr>\n",
       "      <th>52</th>\n",
       "      <td>The Rogue Prince of Persia</td>\n",
       "      <td>['Evil Empire']</td>\n",
       "      <td>['Single-player', 'Steam Achievements', 'Full ...</td>\n",
       "      <td>['Action', 'Adventure', 'Early Access']</td>\n",
       "      <td>2024-05-27</td>\n",
       "      <td>567</td>\n",
       "      <td>490</td>\n",
       "      <td>77</td>\n",
       "      <td>8.0</td>\n",
       "      <td>Very Positive</td>\n",
       "      <td>86.4</td>\n",
       "      <td>0</td>\n",
       "      <td>False</td>\n",
       "      <td>19.99</td>\n",
       "    </tr>\n",
       "    <tr>\n",
       "      <th>56</th>\n",
       "      <td>Merry XMerge</td>\n",
       "      <td>['PiHoEntertainment']</td>\n",
       "      <td>['Single-player', 'Steam Cloud', 'Remote Play ...</td>\n",
       "      <td>['Casual', 'Indie', 'Strategy']</td>\n",
       "      <td>2023-12-25</td>\n",
       "      <td>522</td>\n",
       "      <td>510</td>\n",
       "      <td>12</td>\n",
       "      <td>9.0</td>\n",
       "      <td>Overwhelmingly Positive</td>\n",
       "      <td>97.7</td>\n",
       "      <td>0</td>\n",
       "      <td>False</td>\n",
       "      <td>0.99</td>\n",
       "    </tr>\n",
       "    <tr>\n",
       "      <th>63</th>\n",
       "      <td>I'm counting to 6...</td>\n",
       "      <td>['EMIKA_GAMES']</td>\n",
       "      <td>['Single-player', 'Steam Achievements', 'Parti...</td>\n",
       "      <td>['Adventure', 'Indie', 'Simulation']</td>\n",
       "      <td>2024-01-26</td>\n",
       "      <td>157</td>\n",
       "      <td>129</td>\n",
       "      <td>28</td>\n",
       "      <td>8.0</td>\n",
       "      <td>Very Positive</td>\n",
       "      <td>82.2</td>\n",
       "      <td>0</td>\n",
       "      <td>False</td>\n",
       "      <td>6.99</td>\n",
       "    </tr>\n",
       "  </tbody>\n",
       "</table>\n",
       "</div>"
      ],
      "text/plain": [
       "                          name             developers  \\\n",
       "24                Night Raider          ['Tsukuyomi']   \n",
       "47         Tobla - Divine Path     ['Nementic Games']   \n",
       "52  The Rogue Prince of Persia        ['Evil Empire']   \n",
       "56                Merry XMerge  ['PiHoEntertainment']   \n",
       "63        I'm counting to 6...        ['EMIKA_GAMES']   \n",
       "\n",
       "                                           categories  \\\n",
       "24                ['Single-player', 'Family Sharing']   \n",
       "47  ['Single-player', 'Steam Achievements', 'Full ...   \n",
       "52  ['Single-player', 'Steam Achievements', 'Full ...   \n",
       "56  ['Single-player', 'Steam Cloud', 'Remote Play ...   \n",
       "63  ['Single-player', 'Steam Achievements', 'Parti...   \n",
       "\n",
       "                                     genres release_date  total_reviews  \\\n",
       "24                   ['Adventure', 'Indie']   2024-01-26            176   \n",
       "47         ['Adventure', 'Casual', 'Indie']   2024-03-29             92   \n",
       "52  ['Action', 'Adventure', 'Early Access']   2024-05-27            567   \n",
       "56          ['Casual', 'Indie', 'Strategy']   2023-12-25            522   \n",
       "63     ['Adventure', 'Indie', 'Simulation']   2024-01-26            157   \n",
       "\n",
       "    total_positive  total_negative  review_score        review_score_desc  \\\n",
       "24             157              19           8.0            Very Positive   \n",
       "47              86               6           8.0            Very Positive   \n",
       "52             490              77           8.0            Very Positive   \n",
       "56             510              12           9.0  Overwhelmingly Positive   \n",
       "63             129              28           8.0            Very Positive   \n",
       "\n",
       "    positive_percentual  metacritic  is_free  price_initial (USD)  \n",
       "24                 89.2           0    False                 5.99  \n",
       "47                 93.5           0    False                 7.99  \n",
       "52                 86.4           0    False                19.99  \n",
       "56                 97.7           0    False                 0.99  \n",
       "63                 82.2           0    False                 6.99  "
      ]
     },
     "execution_count": 11,
     "metadata": {},
     "output_type": "execute_result"
    }
   ],
   "source": [
    "games_filtered = data[filtered_columns]\n",
    "games_filtered = games_filtered[games_filtered['total_reviews'] >= 50]\n",
    "games_filtered.head()"
   ]
  },
  {
   "cell_type": "code",
   "execution_count": 12,
   "id": "6b7369f1-dec4-4156-9cd6-bdc8bfff4d00",
   "metadata": {},
   "outputs": [
    {
     "name": "stdout",
     "output_type": "stream",
     "text": [
      "<class 'pandas.core.frame.DataFrame'>\n",
      "Index: 11568 entries, 24 to 58039\n",
      "Data columns (total 14 columns):\n",
      " #   Column               Non-Null Count  Dtype  \n",
      "---  ------               --------------  -----  \n",
      " 0   name                 11568 non-null  object \n",
      " 1   developers           11568 non-null  object \n",
      " 2   categories           11568 non-null  object \n",
      " 3   genres               11568 non-null  object \n",
      " 4   release_date         11568 non-null  object \n",
      " 5   total_reviews        11568 non-null  int64  \n",
      " 6   total_positive       11568 non-null  int64  \n",
      " 7   total_negative       11568 non-null  int64  \n",
      " 8   review_score         11568 non-null  float64\n",
      " 9   review_score_desc    11568 non-null  object \n",
      " 10  positive_percentual  11568 non-null  float64\n",
      " 11  metacritic           11568 non-null  int64  \n",
      " 12  is_free              11568 non-null  bool   \n",
      " 13  price_initial (USD)  11568 non-null  float64\n",
      "dtypes: bool(1), float64(3), int64(4), object(6)\n",
      "memory usage: 1.2+ MB\n"
     ]
    }
   ],
   "source": [
    "games_filtered.info()"
   ]
  },
  {
   "cell_type": "code",
   "execution_count": 13,
   "id": "08d4fb6a-ef2c-4011-928b-e548acaf9aed",
   "metadata": {},
   "outputs": [
    {
     "name": "stdout",
     "output_type": "stream",
     "text": [
      "name                 11568\n",
      "developers            7959\n",
      "categories            2686\n",
      "genres                 719\n",
      "release_date          3476\n",
      "review_score_desc        7\n",
      "dtype: int64\n"
     ]
    }
   ],
   "source": [
    "categorical_cardinality = games_filtered.select_dtypes(include=['object']).nunique()\n",
    "print(categorical_cardinality)"
   ]
  },
  {
   "cell_type": "code",
   "execution_count": 14,
   "id": "e0205c97-bf8c-46ba-9803-bcfc5c216e92",
   "metadata": {},
   "outputs": [
    {
     "name": "stdout",
     "output_type": "stream",
     "text": [
      "Unnamed: 0             58041\n",
      "steam_appid            58041\n",
      "required_age              69\n",
      "n_achievements           343\n",
      "total_reviews           2770\n",
      "total_positive          2598\n",
      "total_negative          1190\n",
      "review_score              10\n",
      "positive_percentual      805\n",
      "metacritic                69\n",
      "price_initial (USD)      247\n",
      "dtype: int64\n"
     ]
    }
   ],
   "source": [
    "int_cardinality = data.select_dtypes(include=['int64', 'float64']).nunique()\n",
    "print(int_cardinality)"
   ]
  },
  {
   "cell_type": "code",
   "execution_count": 15,
   "id": "768ea5a5-3472-4477-ad57-1cf8f91124dc",
   "metadata": {},
   "outputs": [
    {
     "data": {
      "text/html": [
       "<div>\n",
       "<style scoped>\n",
       "    .dataframe tbody tr th:only-of-type {\n",
       "        vertical-align: middle;\n",
       "    }\n",
       "\n",
       "    .dataframe tbody tr th {\n",
       "        vertical-align: top;\n",
       "    }\n",
       "\n",
       "    .dataframe thead th {\n",
       "        text-align: right;\n",
       "    }\n",
       "</style>\n",
       "<table border=\"1\" class=\"dataframe\">\n",
       "  <thead>\n",
       "    <tr style=\"text-align: right;\">\n",
       "      <th></th>\n",
       "      <th>total_reviews</th>\n",
       "      <th>total_positive</th>\n",
       "      <th>total_negative</th>\n",
       "      <th>review_score</th>\n",
       "      <th>positive_percentual</th>\n",
       "      <th>metacritic</th>\n",
       "      <th>price_initial (USD)</th>\n",
       "    </tr>\n",
       "  </thead>\n",
       "  <tbody>\n",
       "    <tr>\n",
       "      <th>count</th>\n",
       "      <td>1.156800e+04</td>\n",
       "      <td>1.156800e+04</td>\n",
       "      <td>11568.000000</td>\n",
       "      <td>11568.000000</td>\n",
       "      <td>11568.000000</td>\n",
       "      <td>11568.000000</td>\n",
       "      <td>11568.000000</td>\n",
       "    </tr>\n",
       "    <tr>\n",
       "      <th>mean</th>\n",
       "      <td>2.502677e+03</td>\n",
       "      <td>2.201657e+03</td>\n",
       "      <td>301.019450</td>\n",
       "      <td>7.025847</td>\n",
       "      <td>80.299732</td>\n",
       "      <td>14.315698</td>\n",
       "      <td>14.162542</td>\n",
       "    </tr>\n",
       "    <tr>\n",
       "      <th>std</th>\n",
       "      <td>2.072317e+04</td>\n",
       "      <td>1.830271e+04</td>\n",
       "      <td>2897.100148</td>\n",
       "      <td>1.382725</td>\n",
       "      <td>14.779909</td>\n",
       "      <td>29.510360</td>\n",
       "      <td>11.968562</td>\n",
       "    </tr>\n",
       "    <tr>\n",
       "      <th>min</th>\n",
       "      <td>5.000000e+01</td>\n",
       "      <td>3.000000e+00</td>\n",
       "      <td>0.000000</td>\n",
       "      <td>1.000000</td>\n",
       "      <td>4.300000</td>\n",
       "      <td>0.000000</td>\n",
       "      <td>0.000000</td>\n",
       "    </tr>\n",
       "    <tr>\n",
       "      <th>25%</th>\n",
       "      <td>8.800000e+01</td>\n",
       "      <td>6.800000e+01</td>\n",
       "      <td>15.000000</td>\n",
       "      <td>6.000000</td>\n",
       "      <td>72.800000</td>\n",
       "      <td>0.000000</td>\n",
       "      <td>4.990000</td>\n",
       "    </tr>\n",
       "    <tr>\n",
       "      <th>50%</th>\n",
       "      <td>1.920000e+02</td>\n",
       "      <td>1.510000e+02</td>\n",
       "      <td>35.000000</td>\n",
       "      <td>8.000000</td>\n",
       "      <td>83.700000</td>\n",
       "      <td>0.000000</td>\n",
       "      <td>9.990000</td>\n",
       "    </tr>\n",
       "    <tr>\n",
       "      <th>75%</th>\n",
       "      <td>6.320000e+02</td>\n",
       "      <td>5.220000e+02</td>\n",
       "      <td>98.000000</td>\n",
       "      <td>8.000000</td>\n",
       "      <td>91.500000</td>\n",
       "      <td>0.000000</td>\n",
       "      <td>19.990000</td>\n",
       "    </tr>\n",
       "    <tr>\n",
       "      <th>max</th>\n",
       "      <td>1.279700e+06</td>\n",
       "      <td>1.107275e+06</td>\n",
       "      <td>172425.000000</td>\n",
       "      <td>9.000000</td>\n",
       "      <td>100.000000</td>\n",
       "      <td>97.000000</td>\n",
       "      <td>269.990000</td>\n",
       "    </tr>\n",
       "  </tbody>\n",
       "</table>\n",
       "</div>"
      ],
      "text/plain": [
       "       total_reviews  total_positive  total_negative  review_score  \\\n",
       "count   1.156800e+04    1.156800e+04    11568.000000  11568.000000   \n",
       "mean    2.502677e+03    2.201657e+03      301.019450      7.025847   \n",
       "std     2.072317e+04    1.830271e+04     2897.100148      1.382725   \n",
       "min     5.000000e+01    3.000000e+00        0.000000      1.000000   \n",
       "25%     8.800000e+01    6.800000e+01       15.000000      6.000000   \n",
       "50%     1.920000e+02    1.510000e+02       35.000000      8.000000   \n",
       "75%     6.320000e+02    5.220000e+02       98.000000      8.000000   \n",
       "max     1.279700e+06    1.107275e+06   172425.000000      9.000000   \n",
       "\n",
       "       positive_percentual    metacritic  price_initial (USD)  \n",
       "count         11568.000000  11568.000000         11568.000000  \n",
       "mean             80.299732     14.315698            14.162542  \n",
       "std              14.779909     29.510360            11.968562  \n",
       "min               4.300000      0.000000             0.000000  \n",
       "25%              72.800000      0.000000             4.990000  \n",
       "50%              83.700000      0.000000             9.990000  \n",
       "75%              91.500000      0.000000            19.990000  \n",
       "max             100.000000     97.000000           269.990000  "
      ]
     },
     "execution_count": 15,
     "metadata": {},
     "output_type": "execute_result"
    }
   ],
   "source": [
    "games_filtered.describe()"
   ]
  },
  {
   "cell_type": "code",
   "execution_count": 16,
   "id": "dcdd22ef-a7d9-48bb-bc93-a13d3a4007e5",
   "metadata": {},
   "outputs": [
    {
     "name": "stdout",
     "output_type": "stream",
     "text": [
      "       price_initial (USD) price_group\n",
      "24                    5.99         Low\n",
      "47                    7.99         Low\n",
      "52                   19.99      Medium\n",
      "56                    0.99        Free\n",
      "63                    6.99         Low\n",
      "...                    ...         ...\n",
      "58026                 2.99         Low\n",
      "58028                16.99      Medium\n",
      "58032                14.99      Medium\n",
      "58038                14.99      Medium\n",
      "58039                 5.99         Low\n",
      "\n",
      "[11568 rows x 2 columns]\n"
     ]
    }
   ],
   "source": [
    "bins = [0, 1, 10, 30, 50, float('inf')]\n",
    "labels = ['Free', 'Low', 'Medium', 'High', 'Premium']\n",
    "\n",
    "games_filtered['price_group'] = pd.cut(games_filtered['price_initial (USD)'], bins = bins, labels = labels, right = False)\n",
    "\n",
    "print(games_filtered[['price_initial (USD)', 'price_group']])"
   ]
  },
  {
   "cell_type": "code",
   "execution_count": 18,
   "id": "fde53abf-5ba4-4265-899a-e0a9459ead13",
   "metadata": {},
   "outputs": [
    {
     "name": "stdout",
     "output_type": "stream",
     "text": [
      "price_group\n",
      "Free        892\n",
      "Low        4901\n",
      "Medium     5059\n",
      "High        542\n",
      "Premium     174\n",
      "Name: count, dtype: int64\n",
      "\n",
      "Lowest Game Price 0.0\n",
      "Highest Game Price 269.99\n"
     ]
    }
   ],
   "source": [
    "# Number of Games in Each Price Zone\n",
    "price_distribution = games_filtered['price_group'].value_counts().sort_index()\n",
    "print(price_distribution)\n",
    "\n",
    "# Check outliers\n",
    "print(\"\\nLowest Game Price\", games_filtered['price_initial (USD)'].min())\n",
    "print(\"Highest Game Price\", games_filtered['price_initial (USD)'].max())"
   ]
  },
  {
   "cell_type": "code",
   "execution_count": 23,
   "id": "9bd4bffb-d0e1-4773-860f-7e02f8498a51",
   "metadata": {},
   "outputs": [
    {
     "name": "stdout",
     "output_type": "stream",
     "text": [
      "Average Reviews in Each Price Zone\n",
      "   price_group  avg_positive_percentual  avg_metacritic\n",
      "0        Free                75.940583       72.777778\n",
      "1         Low                80.184269       70.547926\n",
      "2      Medium                81.245839       74.833065\n",
      "3        High                80.606458       78.160494\n",
      "4     Premium                77.435632       80.867925\n"
     ]
    },
    {
     "name": "stderr",
     "output_type": "stream",
     "text": [
      "C:\\Users\\Surface\\AppData\\Local\\Temp\\ipykernel_71952\\346900811.py:3: FutureWarning: The default of observed=False is deprecated and will be changed to True in a future version of pandas. Pass observed=False to retain current behavior or observed=True to adopt the future default and silence this warning.\n",
      "  price_zone_analysis = games_filtered.groupby('price_group').agg(\n"
     ]
    }
   ],
   "source": [
    "# Check Average Positive Percentual and Metacritic in each price zone\n",
    "\n",
    "price_zone_analysis = games_filtered.groupby('price_group').agg(\n",
    "    avg_positive_percentual=('positive_percentual', 'mean'),\n",
    "    avg_metacritic=('metacritic', lambda x: x[x != 0].mean())\n",
    ").reset_index()\n",
    "\n",
    "print(\"Average Reviews in Each Price Zone\\n\", price_zone_analysis)"
   ]
  },
  {
   "cell_type": "code",
   "execution_count": 26,
   "id": "85f11dcb-4f97-4978-8de6-5f361bb0d2a3",
   "metadata": {},
   "outputs": [
    {
     "data": {
      "application/vnd.vegalite.v5+json": {
       "$schema": "https://vega.github.io/schema/vega-lite/v5.20.1.json",
       "config": {
        "view": {
         "continuousHeight": 300,
         "continuousWidth": 300
        }
       },
       "data": {
        "format": {
         "type": "json"
        },
        "url": "altairdata\\altair-data-2c7b205516589a5fef13e74ff918cbb3.json"
       },
       "encoding": {
        "color": {
         "field": "price_group",
         "sort": [
          "Free",
          "Low",
          "Medium",
          "High",
          "Premium"
         ],
         "type": "ordinal"
        },
        "x": {
         "field": "positive_percentual",
         "type": "quantitative"
        },
        "y": {
         "field": "price_group",
         "sort": [
          "Free",
          "Low",
          "Medium",
          "High",
          "Premium"
         ],
         "type": "ordinal"
        }
       },
       "mark": {
        "type": "boxplot"
       },
       "title": "Games Reviews Distribution in Different Price Zone"
      },
      "image/png": "[encoded data removed]",
      "text/plain": [
       "<VegaLite 5 object>\n",
       "\n",
       "If you see this message, it means the renderer has not been properly enabled\n",
       "for the frontend that you are using. For more information, see\n",
       "https://altair-viz.github.io/user_guide/display_frontends.html#troubleshooting\n"
      ]
     },
     "execution_count": 26,
     "metadata": {},
     "output_type": "execute_result"
    }
   ],
   "source": [
    "game_reviews_distritbution = alt.Chart(games_filtered).mark_boxplot().encode(\n",
    "    x='positive_percentual',\n",
    "    y='price_group',\n",
    "    color='price_group'\n",
    ").properties(\n",
    "    title='Games Reviews Distribution in Different Price Zone'\n",
    ")\n",
    "\n",
    "game_reviews_distritbution"
   ]
  },
  {
   "cell_type": "code",
   "execution_count": 13,
   "id": "bc0557e5-659b-4dd1-944a-35b138707e67",
   "metadata": {},
   "outputs": [
    {
     "data": {
      "application/vnd.vegalite.v5+json": {
       "$schema": "https://vega.github.io/schema/vega-lite/v5.20.1.json",
       "config": {
        "view": {
         "continuousHeight": 300,
         "continuousWidth": 300
        }
       },
       "data": {
        "format": {
         "type": "json"
        },
        "url": "altairdata\\altair-data-d17a7391f6eea1b0d9a0bd92c511a2ec.json"
       },
       "encoding": {
        "color": {
         "field": "price_group",
         "sort": [
          "Free",
          "Low",
          "Medium",
          "High",
          "Premium"
         ],
         "type": "ordinal"
        },
        "x": {
         "field": "price_group",
         "sort": [
          "Free",
          "Low",
          "Medium",
          "High",
          "Premium"
         ],
         "type": "ordinal"
        },
        "y": {
         "field": "positive_percentual",
         "type": "quantitative"
        }
       },
       "mark": {
        "type": "bar"
       },
       "title": "Stacked Bar Chart of Positive Review Percentual in each Price Zone"
      },
      "image/png": "[encoded data removed]",
      "text/plain": [
       "<VegaLite 5 object>\n",
       "\n",
       "If you see this message, it means the renderer has not been properly enabled\n",
       "for the frontend that you are using. For more information, see\n",
       "https://altair-viz.github.io/user_guide/display_frontends.html#troubleshooting\n"
      ]
     },
     "execution_count": 13,
     "metadata": {},
     "output_type": "execute_result"
    }
   ],
   "source": [
    "alt.Chart(games_filtered).mark_bar().encode(\n",
    "    alt.X('price_group'),\n",
    "    alt.Y('positive_percentual'),\n",
    "    alt.Color('price_group')\n",
    ").properties(\n",
    "    title='Stacked Bar Chart of Positive Review Percentual in each Price Zone'\n",
    ")"
   ]
  },
  {
   "cell_type": "code",
   "execution_count": 15,
   "id": "2cc624f7-f9f5-4b1f-a297-1e3807ef3b50",
   "metadata": {},
   "outputs": [
    {
     "data": {
      "application/vnd.vegalite.v5+json": {
       "$schema": "https://vega.github.io/schema/vega-lite/v5.20.1.json",
       "config": {
        "view": {
         "continuousHeight": 300,
         "continuousWidth": 300
        }
       },
       "data": {
        "format": {
         "type": "json"
        },
        "url": "altairdata\\altair-data-781e12ceabcc311b5a3e6733089e0076.json"
       },
       "height": 400,
       "layer": [
        {
         "encoding": {
          "color": {
           "field": "Correlation",
           "scale": {
            "domain": [
             -1,
             1
            ],
            "scheme": "redblue"
           },
           "type": "quantitative"
          },
          "tooltip": [
           {
            "field": "Variable1",
            "type": "nominal"
           },
           {
            "field": "Variable2",
            "type": "nominal"
           },
           {
            "field": "Correlation",
            "type": "quantitative"
           }
          ],
          "x": {
           "field": "Variable1",
           "type": "nominal"
          },
          "y": {
           "field": "Variable2",
           "type": "nominal"
          }
         },
         "mark": {
          "type": "rect"
         }
        },
        {
         "encoding": {
          "color": {
           "condition": {
            "test": "(datum.Correlation > 0.5)",
            "value": "white"
           },
           "value": "black"
          },
          "text": {
           "field": "Correlation",
           "format": ".2f",
           "type": "quantitative"
          },
          "tooltip": [
           {
            "field": "Variable1",
            "type": "nominal"
           },
           {
            "field": "Variable2",
            "type": "nominal"
           },
           {
            "field": "Correlation",
            "type": "quantitative"
           }
          ],
          "x": {
           "field": "Variable1",
           "type": "nominal"
          },
          "y": {
           "field": "Variable2",
           "type": "nominal"
          }
         },
         "mark": {
          "type": "text"
         }
        }
       ],
       "width": 400
      },
      "image/png": "[encoded data removed]",
      "text/plain": [
       "<VegaLite 5 object>\n",
       "\n",
       "If you see this message, it means the renderer has not been properly enabled\n",
       "for the frontend that you are using. For more information, see\n",
       "https://altair-viz.github.io/user_guide/display_frontends.html#troubleshooting\n"
      ]
     },
     "execution_count": 15,
     "metadata": {},
     "output_type": "execute_result"
    }
   ],
   "source": [
    "games_filtered['price_group_code'] = pd.Categorical(games_filtered['price_group']).codes\n",
    "\n",
    "games_filtered['metacritic_norm'] = games_filtered['metacritic'] / 100\n",
    "\n",
    "\n",
    "numeric_vars = ['price_initial (USD)', 'positive_percentual', 'metacritic', 'total_reviews', 'price_group_code']\n",
    "corr_matrix = games_filtered[numeric_vars].corr()\n",
    "\n",
    "corr_df = corr_matrix.stack().reset_index()\n",
    "corr_df.columns = ['Variable1', 'Variable2', 'Correlation']\n",
    "\n",
    "correlation_heatmap = alt.Chart(corr_df).mark_rect().encode(\n",
    "    x='Variable1:N',\n",
    "    y='Variable2:N',\n",
    "    color=alt.Color('Correlation:Q', scale=alt.Scale(scheme='redblue', domain=(-1, 1))),\n",
    "    tooltip=['Variable1', 'Variable2', 'Correlation']\n",
    ").properties(\n",
    "    width=400,\n",
    "    height=400\n",
    ")\n",
    "\n",
    "heatmap_text = correlation_heatmap.mark_text().encode(\n",
    "    text=alt.Text('Correlation:Q', format='.2f'),\n",
    "    color=alt.condition(\n",
    "        alt.datum.Correlation > 0.5,\n",
    "        alt.value('white'),\n",
    "        alt.value('black')\n",
    "    )\n",
    ")\n",
    "\n",
    "final_chart = correlation_heatmap + heatmap_text\n",
    "final_chart"
   ]
  },
  {
   "cell_type": "code",
   "execution_count": 20,
   "id": "8e685781-c148-4480-99e0-8a5539ce0584",
   "metadata": {},
   "outputs": [
    {
     "data": {
      "application/vnd.vegalite.v5+json": {
       "$schema": "https://vega.github.io/schema/vega-lite/v5.20.1.json",
       "config": {
        "view": {
         "continuousHeight": 300,
         "continuousWidth": 300
        }
       },
       "data": {
        "format": {
         "type": "json"
        },
        "url": "altairdata\\altair-data-52b69ae6199e2f36d43c3566025655b9.json"
       },
       "encoding": {
        "color": {
         "field": "price_group",
         "legend": null,
         "type": "nominal"
        },
        "tooltip": [
         {
          "field": "price_group",
          "type": "ordinal"
         },
         {
          "aggregate": "mean",
          "field": "positive_percentual",
          "type": "quantitative"
         }
        ],
        "x": {
         "axis": {
          "labelAngle": 0
         },
         "field": "price_group",
         "title": "Price Category",
         "type": "nominal"
        },
        "y": {
         "aggregate": "mean",
         "field": "positive_percentual",
         "title": "Average Positive Review Ratio",
         "type": "quantitative"
        }
       },
       "height": 400,
       "mark": {
        "type": "bar"
       },
       "title": "Average Positive Review Ratio by Price Category",
       "width": 600
      },
      "image/png": "[encoded data removed]",
      "text/plain": [
       "<VegaLite 5 object>\n",
       "\n",
       "If you see this message, it means the renderer has not been properly enabled\n",
       "for the frontend that you are using. For more information, see\n",
       "https://altair-viz.github.io/user_guide/display_frontends.html#troubleshooting\n"
      ]
     },
     "execution_count": 20,
     "metadata": {},
     "output_type": "execute_result"
    }
   ],
   "source": [
    "alt.Chart(games_filtered).mark_bar().encode(\n",
    "    x=alt.X('price_group:N', title = 'Price Category',axis=alt.Axis(labelAngle=0)),\n",
    "    y=alt.Y('mean(positive_percentual):Q', title = 'Average Positive Review Ratio'),\n",
    "    color=alt.Color('price_group:N', legend=None),\n",
    "    tooltip=['price_group','mean(positive_percentual)']\n",
    ").properties(\n",
    "    width=600,\n",
    "    height=400,\n",
    "    title='Average Positive Review Ratio by Price Category'\n",
    ")"
   ]
  },
  {
   "cell_type": "code",
   "execution_count": 22,
   "id": "054229d6-2ed2-4d5f-8ade-c9a8241a45e6",
   "metadata": {},
   "outputs": [
    {
     "data": {
      "application/vnd.vegalite.v5+json": {
       "$schema": "https://vega.github.io/schema/vega-lite/v5.20.1.json",
       "config": {
        "view": {
         "continuousHeight": 300,
         "continuousWidth": 300
        }
       },
       "data": {
        "format": {
         "type": "json"
        },
        "url": "altairdata\\altair-data-52b69ae6199e2f36d43c3566025655b9.json"
       },
       "encoding": {
        "color": {
         "field": "price_group",
         "sort": [
          "Free",
          "Low",
          "Medium",
          "High",
          "Premium"
         ],
         "type": "ordinal"
        },
        "x": {
         "axis": {
          "labelAngle": 0
         },
         "field": "price_group",
         "sort": "-y",
         "title": "Price Category",
         "type": "nominal"
        },
        "y": {
         "aggregate": "count",
         "title": "Number of Games",
         "type": "quantitative"
        }
       },
       "height": 400,
       "mark": {
        "type": "bar"
       },
       "title": "Number of Games in Each Price Category",
       "width": 600
      },
      "image/png": "[encoded data removed]",
      "text/plain": [
       "<VegaLite 5 object>\n",
       "\n",
       "If you see this message, it means the renderer has not been properly enabled\n",
       "for the frontend that you are using. For more information, see\n",
       "https://altair-viz.github.io/user_guide/display_frontends.html#troubleshooting\n"
      ]
     },
     "execution_count": 22,
     "metadata": {},
     "output_type": "execute_result"
    }
   ],
   "source": [
    "alt.Chart(games_filtered).mark_bar().encode(\n",
    "    alt.X('price_group:N', title = 'Price Category', sort = '-y', axis=alt.Axis(labelAngle=0)),\n",
    "    alt.Y('count():Q', title = 'Number of Games'),\n",
    "    alt.Color('price_group')\n",
    ").properties(\n",
    "    width=600,\n",
    "    height=400,\n",
    "    title='Number of Games in Each Price Category'\n",
    ")"
   ]
  },
  {
   "cell_type": "code",
   "execution_count": null,
   "id": "ecd326a9-20df-4ef0-bd3a-5ac610da5de6",
   "metadata": {},
   "outputs": [],
   "source": []
  }
 ],
 "metadata": {
  "kernelspec": {
   "display_name": "Python [conda env:base] *",
   "language": "python",
   "name": "conda-base-py"
  },
  "language_info": {
   "codemirror_mode": {
    "name": "ipython",
    "version": 3
   },
   "file_extension": ".py",
   "mimetype": "text/x-python",
   "name": "python",
   "nbconvert_exporter": "python",
   "pygments_lexer": "ipython3",
   "version": "3.11.5"
  }
 },
 "nbformat": 4,
 "nbformat_minor": 5
}
